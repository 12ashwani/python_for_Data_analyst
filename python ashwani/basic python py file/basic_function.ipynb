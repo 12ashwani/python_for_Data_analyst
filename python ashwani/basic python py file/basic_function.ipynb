{
 "cells": [
  {
   "cell_type": "code",
   "execution_count": 1,
   "metadata": {},
   "outputs": [],
   "source": [
    "# defination of function call \n",
    "def fun(name):\n",
    "    print('hello ',name)"
   ]
  },
  {
   "cell_type": "code",
   "execution_count": 4,
   "metadata": {},
   "outputs": [
    {
     "name": "stdout",
     "output_type": "stream",
     "text": [
      "hello  ashwani\n"
     ]
    }
   ],
   "source": [
    "# function call \n",
    "fun('ashwani')"
   ]
  },
  {
   "cell_type": "markdown",
   "metadata": {},
   "source": [
    "# Recursion\n",
    "\n",
    "Recursion is a programming technique where a function calls itself in order to solve a problem. The function typically solves a small part of the problem and then calls itself with a simpler version of the same problem, continuing this process until it reaches a base case that can be solved directly without further recursion"
   ]
  },
  {
   "cell_type": "code",
   "execution_count": 7,
   "metadata": {},
   "outputs": [],
   "source": [
    "''' \n",
    "factorial(1)=1\n",
    "factorial(2)=2x1\n",
    "factorial(3)=3x2x1\n",
    "factorial(4)=4x3x2x1\n",
    "..\n",
    "factorial(n)=n* (n-1)x....3x2x1\n",
    "\n",
    "\n",
    "factorial(n)=n*factorial(n-1)\n",
    "\n",
    "'''\n",
    "def factorial(n):\n",
    "     # Base case\n",
    "    if n == 0 or n==1:\n",
    "        return 1\n",
    "    # Recursive case\n",
    "    else:\n",
    "        return n * factorial(n-1)"
   ]
  },
  {
   "cell_type": "code",
   "execution_count": 10,
   "metadata": {},
   "outputs": [
    {
     "data": {
      "text/plain": [
       "120"
      ]
     },
     "execution_count": 10,
     "metadata": {},
     "output_type": "execute_result"
    }
   ],
   "source": [
    "factorial(5)"
   ]
  },
  {
   "cell_type": "code",
   "execution_count": 11,
   "metadata": {},
   "outputs": [],
   "source": [
    "def max_n(a):\n",
    "    num=[]\n",
    "    for i in range (1,a+1):\n",
    "        r=int(input(\"Enter the number\"))\n",
    "        num.append(r)\n",
    "    b=max(num)\n",
    "    return f'max number is {b}'\n"
   ]
  },
  {
   "cell_type": "code",
   "execution_count": 12,
   "metadata": {},
   "outputs": [
    {
     "data": {
      "text/plain": [
       "'max number is 58'"
      ]
     },
     "execution_count": 12,
     "metadata": {},
     "output_type": "execute_result"
    }
   ],
   "source": [
    "max_n(3)"
   ]
  },
  {
   "cell_type": "code",
   "execution_count": 19,
   "metadata": {},
   "outputs": [],
   "source": [
    "def celsius_to_F(temp):\n",
    "    ff=temp * (9/5) + 32 \n",
    "    return f' {temp}°C Temprature is equal to the {ff}°F'\n"
   ]
  },
  {
   "cell_type": "code",
   "execution_count": 20,
   "metadata": {},
   "outputs": [
    {
     "data": {
      "text/plain": [
       "' 35°C Temprature is equal to the 95.0°F'"
      ]
     },
     "execution_count": 20,
     "metadata": {},
     "output_type": "execute_result"
    }
   ],
   "source": [
    "celsius_to_F(35)"
   ]
  },
  {
   "cell_type": "code",
   "execution_count": 21,
   "metadata": {},
   "outputs": [],
   "source": [
    "# This is the recursion function which is use the \n",
    "def sum_n(n):\n",
    "    if (n==1):\n",
    "        return 1\n",
    "    return sum_n(n-1)+n"
   ]
  },
  {
   "cell_type": "code",
   "execution_count": 22,
   "metadata": {},
   "outputs": [
    {
     "data": {
      "text/plain": [
       "15"
      ]
     },
     "execution_count": 22,
     "metadata": {},
     "output_type": "execute_result"
    }
   ],
   "source": [
    "sum_n(5)"
   ]
  },
  {
   "cell_type": "code",
   "execution_count": null,
   "metadata": {},
   "outputs": [],
   "source": []
  }
 ],
 "metadata": {
  "kernelspec": {
   "display_name": "Python 3",
   "language": "python",
   "name": "python3"
  },
  "language_info": {
   "codemirror_mode": {
    "name": "ipython",
    "version": 3
   },
   "file_extension": ".py",
   "mimetype": "text/x-python",
   "name": "python",
   "nbconvert_exporter": "python",
   "pygments_lexer": "ipython3",
   "version": "3.11.7"
  }
 },
 "nbformat": 4,
 "nbformat_minor": 2
}
