{
 "cells": [
  {
   "cell_type": "code",
   "execution_count": 1,
   "metadata": {},
   "outputs": [
    {
     "data": {
      "text/plain": [
       "dict_items([('hindi', 45), ('math', 47), ('english', 78)])"
      ]
     },
     "execution_count": 1,
     "metadata": {},
     "output_type": "execute_result"
    }
   ],
   "source": [
    "result={'hindi':45,'math':47,'english':78}\n",
    "sum_result=result.items()\n",
    "sum_result"
   ]
  },
  {
   "cell_type": "code",
   "execution_count": 5,
   "metadata": {},
   "outputs": [
    {
     "name": "stdout",
     "output_type": "stream",
     "text": [
      "get the total percent mark 33.666666666666664\n",
      "failthe in exam\n"
     ]
    }
   ],
   "source": [
    "math=int(input('Enter the math marks :'))\n",
    "English=int(input('Enter the english marks :'))\n",
    "\n",
    "hindi=int(input('Enter the hindi marks :'))\n",
    "total=hindi+math+English\n",
    "total\n",
    "if total>=40:\n",
    "    print(f'get the total percent mark {total/3}')\n",
    "    if math>=33 and hindi>33 and English>33:\n",
    "        print('pass in all subject')\n",
    "    else:\n",
    "        print('failthe in exam')\n",
    "else :\n",
    "    print('fails into the exam')\n",
    "\n",
    "\n"
   ]
  },
  {
   "cell_type": "code",
   "execution_count": 6,
   "metadata": {},
   "outputs": [
    {
     "name": "stdout",
     "output_type": "stream",
     "text": [
      "You failed with a total percentage of 50.67%.\n",
      "You did not pass in the following subject(s): Hindi\n"
     ]
    }
   ],
   "source": [
    "# Input marks for each subject\n",
    "math = int(input('Enter the Math marks: '))\n",
    "english = int(input('Enter the English marks: '))\n",
    "hindi = int(input('Enter the Hindi marks: '))\n",
    "\n",
    "# Calculate total marks and percentage\n",
    "total = math + english + hindi\n",
    "percentage = total / 3\n",
    "\n",
    "# Initialize a list to keep track of failed subjects\n",
    "failed_subjects = []\n",
    "\n",
    "# Check for passing marks in each subject\n",
    "if math < 33:\n",
    "    failed_subjects.append('Math')\n",
    "if english < 33:\n",
    "    failed_subjects.append('English')\n",
    "if hindi < 33:\n",
    "    failed_subjects.append('Hindi')\n",
    "\n",
    "# Determine pass/fail status and provide feedback\n",
    "if total >= 120 and not failed_subjects:\n",
    "    print(f'You passed with a total percentage of {percentage:.2f}%.')\n",
    "else:\n",
    "    print(f'You failed with a total percentage of {percentage:.2f}%.')\n",
    "    if failed_subjects:\n",
    "        print(f'You did not pass in the following subject(s): {\", \".join(failed_subjects)}')\n",
    "    else:\n",
    "        print('Total marks were below the required threshold.')\n"
   ]
  },
  {
   "cell_type": "code",
   "execution_count": 24,
   "metadata": {},
   "outputs": [
    {
     "name": "stdout",
     "output_type": "stream",
     "text": [
      "    *\n",
      "   ***\n",
      "  *****\n",
      " *******\n",
      "*********\n"
     ]
    }
   ],
   "source": [
    "n=int(input('Enteerthe number :'))\n",
    "\n",
    "for i in range (1,n+1):\n",
    "    print(' '*(n-i),end='')\n",
    "    print('*'*(2*i-1),end='')\n",
    "    print('')\n"
   ]
  },
  {
   "cell_type": "code",
   "execution_count": 2,
   "metadata": {},
   "outputs": [
    {
     "name": "stdout",
     "output_type": "stream",
     "text": [
      "    *\n",
      "   ***\n",
      "  *****\n",
      " *******\n",
      "*********\n",
      " *******\n",
      "  *****\n",
      "   ***\n",
      "    *\n"
     ]
    }
   ],
   "source": [
    "n = int(input('Enter the number: '))\n",
    "\n",
    "# Upper part of the diamond\n",
    "for i in range(1, n+1):\n",
    "    print(' ' * (n - i) + '*' * (2 * i - 1))\n",
    "\n",
    "# Lower part of the diamond\n",
    "for i in range(n-1, 0, -1):\n",
    "    print(' ' * (n - i) + '*' * (2 * i - 1))\n"
   ]
  },
  {
   "cell_type": "markdown",
   "metadata": {},
   "source": [
    "# Upper part of the diamond:\n",
    "\n",
    "- For each line, the number of spaces decreases, and the number of asterisks increases.\n",
    "- The number of spaces is n - i, and the number of asterisks is 2 * i - 1.\n",
    "# Lower part of the diamond:\n",
    "\n",
    "- This part is the reverse of the upper part.\n",
    "- The loop runs from n-1 down to 1, creating a mirror image of the upper part."
   ]
  },
  {
   "cell_type": "code",
   "execution_count": null,
   "metadata": {},
   "outputs": [],
   "source": []
  }
 ],
 "metadata": {
  "kernelspec": {
   "display_name": "base",
   "language": "python",
   "name": "python3"
  },
  "language_info": {
   "codemirror_mode": {
    "name": "ipython",
    "version": 3
   },
   "file_extension": ".py",
   "mimetype": "text/x-python",
   "name": "python",
   "nbconvert_exporter": "python",
   "pygments_lexer": "ipython3",
   "version": "3.11.7"
  }
 },
 "nbformat": 4,
 "nbformat_minor": 2
}
