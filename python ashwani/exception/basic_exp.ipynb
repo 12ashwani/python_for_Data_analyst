{
 "cells": [
  {
   "cell_type": "code",
   "execution_count": 2,
   "metadata": {},
   "outputs": [
    {
     "name": "stdout",
     "output_type": "stream",
     "text": [
      "Enter a Floating-point Value: \n",
      "Invalid Input!\n"
     ]
    }
   ],
   "source": [
    "print(\"Enter a Floating-point Value: \", end=\"\")\n",
    "\n",
    "try:\n",
    "    val = float(input())\n",
    "    print(\"\\nYou've entered:\", val)\n",
    "\n",
    "except ValueError:\n",
    "    print(\"\\nInvalid Input!\")"
   ]
  },
  {
   "cell_type": "code",
   "execution_count": 3,
   "metadata": {},
   "outputs": [
    {
     "name": "stdout",
     "output_type": "stream",
     "text": [
      "invalide input ..Try Again\n",
      "invalide input ..Try Again\n",
      "you entered : 78\n"
     ]
    }
   ],
   "source": [
    "while True: \n",
    "    try:\n",
    "        val=int(input('enter the integer value'))\n",
    "        break\n",
    "    except ValueError:\n",
    "        print('invalide input ..Try Again')\n",
    "print('you entered :',val)"
   ]
  },
  {
   "cell_type": "markdown",
   "metadata": {},
   "source": [
    "To receive only particular type of continuous values like to receive only integer values, then refer to following program:"
   ]
  },
  {
   "cell_type": "code",
   "execution_count": 4,
   "metadata": {},
   "outputs": [
    {
     "name": "stdout",
     "output_type": "stream",
     "text": [
      "enter the 10 values\n",
      "Invalide Input.. try Again\n",
      "Invalide Input.. try Again\n",
      "Invalide Input.. try Again\n",
      "56,7,56,"
     ]
    }
   ],
   "source": [
    "print('Enter the 10 values')\n",
    "num=[]\n",
    "for i in range(3):\n",
    "    while True:\n",
    "        try:\n",
    "            val=int(input('enter the value :'))\n",
    "            num.append(val)\n",
    "            break\n",
    "        except ValueError:\n",
    "            print('Invalide Input.. try Again')\n",
    "            continue\n",
    "for i in num:\n",
    "    print(i,end=',')\n",
    "    \n"
   ]
  },
  {
   "cell_type": "code",
   "execution_count": null,
   "metadata": {},
   "outputs": [],
   "source": []
  }
 ],
 "metadata": {
  "kernelspec": {
   "display_name": "Python 3",
   "language": "python",
   "name": "python3"
  },
  "language_info": {
   "codemirror_mode": {
    "name": "ipython",
    "version": 3
   },
   "file_extension": ".py",
   "mimetype": "text/x-python",
   "name": "python",
   "nbconvert_exporter": "python",
   "pygments_lexer": "ipython3",
   "version": "3.12.1"
  }
 },
 "nbformat": 4,
 "nbformat_minor": 2
}
