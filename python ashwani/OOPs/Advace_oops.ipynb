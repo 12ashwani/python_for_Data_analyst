{
 "cells": [
  {
   "cell_type": "code",
   "execution_count": 2,
   "metadata": {},
   "outputs": [],
   "source": [
    "class Atm:\n",
    "    def __init__(self) -> None:\n",
    "        self.pin=''\n",
    "        self.balance=0\n",
    "        self.manu()\n",
    "        \n",
    "    def manu(self):\n",
    "        user_input=input('''\n",
    "        Hi can help you ?\n",
    "        1- press 1 to create pin\n",
    "        2- press 2 to change pin\n",
    "        3- press 3 to check  balace\n",
    "        4- press 4 to widraw \n",
    "        5- press 5 to creadite balance\n",
    "        6- Anything else                 \n",
    "        ''')\n",
    "        if user_input=='1':\n",
    "            self.creat_pin()\n",
    "        # create pin\n",
    "        elif user_input=='2':\n",
    "            # change pin\n",
    "            self.change_pin()\n",
    "        elif user_input=='3':\n",
    "            self.check_balance()\n",
    "            # check balance\n",
    "        elif user_input=='4':\n",
    "            self.withdrow()\n",
    "        elif user_input=='5':\n",
    "            self.creadit()\n",
    "            \n",
    "        else:\n",
    "            exit()\n",
    "    def creat_pin(self):\n",
    "        user_pin=input('enter the pin')\n",
    "        self.pin=user_pin\n",
    "        print('pin created succussfully')\n",
    "\n",
    "\n",
    "        user_balance=int(input('Enter the balance'))\n",
    "        self.balance=user_balance\n",
    "        self.manu()\n",
    "    def change_pin(self):\n",
    "        old=input('Enter the old pin')\n",
    "        if old!=self.pin:\n",
    "            print('Wrong pin enter again')\n",
    "            self.manu()\n",
    "        else:\n",
    "            new_pin=input('Enter the new pin')\n",
    "            self.pin=new_pin\n",
    "            print('Pin change succussfully')\n",
    "            self.manu()\n",
    "    def check_balance(self):\n",
    "        pin_o=input('Enter the  pin')\n",
    "        if pin_o==self.pin:\n",
    "            print('Your balance :', self.balance)\n",
    "            self.manu()\n",
    "        else:\n",
    "            print('Wrong pin')\n",
    "            self.manu()\n",
    "    def withdrow(self):\n",
    "        for i in range(3):\n",
    "            u=input('Enter your 8 pin')\n",
    "            if u==self.pin: \n",
    "                amount=int(input('Enter the amount :'))\n",
    "                if amount<=self.balance:\n",
    "                    self.balance= self.balance - amount\n",
    "                    print('Withdrawl successful balace is ;',self.balance)\n",
    "                    self.manu()\n",
    "                else:\n",
    "                    print('Sorry sir insufficent balance') \n",
    "            else:\n",
    "                print('wrong pin enter try again')\n",
    "#             self.manu() \n",
    "    def creadit(self):\n",
    "        for i in range(2):\n",
    "            o_p=input('Enter the pin')\n",
    "            if o_p==self.pin:\n",
    "                r=int(input('Enter the amount'))\n",
    "                self.balance+=r\n",
    "                print('total balance :',self.balance)\n",
    "                self.manu()\n",
    "            else:\n",
    "                print('Wrong pin enter pin Again')\n"
   ]
  },
  {
   "cell_type": "code",
   "execution_count": 3,
   "metadata": {},
   "outputs": [
    {
     "ename": "",
     "evalue": "",
     "output_type": "error",
     "traceback": [
      "\u001b[1;31mThe Kernel crashed while executing code in the the current cell or a previous cell. Please review the code in the cell(s) to identify a possible cause of the failure. Click <a href='https://aka.ms/vscodeJupyterKernelCrash'>here</a> for more info. View Jupyter <a href='command:jupyter.viewOutput'>log</a> for further details."
     ]
    }
   ],
   "source": [
    "a=Atm()"
   ]
  },
  {
   "cell_type": "code",
   "execution_count": 2,
   "metadata": {},
   "outputs": [
    {
     "name": "stdout",
     "output_type": "stream",
     "text": [
      "The Toyota Camry sedan's engine has started.\n",
      "The Ford Explorer SUV's engine has started.\n"
     ]
    }
   ],
   "source": [
    "from abc import ABC,abstractmethod\n",
    "class Car(ABC):\n",
    "      def __init__(self, brand, model):\n",
    "          self.brand = brand\n",
    "          self.model = model\n",
    "\n",
    "      @abstractmethod\n",
    "      def start_engine(self):\n",
    "          pass\n",
    "\n",
    "class Sedan(Car):\n",
    "      def start_engine(self):\n",
    "          print(f\"The {self.brand} {self.model} sedan's engine has started.\")\n",
    "\n",
    "class SUV(Car):\n",
    "      def start_engine(self):\n",
    "          print(f\"The {self.brand} {self.model} SUV's engine has started.\")\n",
    "\n",
    "my_sedan = Sedan(\"Toyota\", \"Camry\")\n",
    "my_sedan.start_engine()\n",
    "\n",
    "my_suv = SUV(\"Ford\", \"Explorer\")\n",
    "my_suv.start_engine()"
   ]
  },
  {
   "cell_type": "code",
   "execution_count": 3,
   "metadata": {},
   "outputs": [
    {
     "name": "stdout",
     "output_type": "stream",
     "text": [
      "The Toyota Camry sedan's engine has started.\n"
     ]
    }
   ],
   "source": [
    "my_sedan."
   ]
  },
  {
   "cell_type": "code",
   "execution_count": 12,
   "metadata": {},
   "outputs": [
    {
     "name": "stdout",
     "output_type": "stream",
     "text": [
      "The Ford Explorer SUV's engine has started.\n"
     ]
    }
   ],
   "source": [
    "class Car1:\n",
    "      def __init__(self, brand, model):\n",
    "          self.brand = brand\n",
    "          self.model = model\n",
    "\n",
    "      \n",
    "      def start_engine(self):\n",
    "          pass\n",
    "\n",
    "class Sedan(Car1):\n",
    "      def drive(self):\n",
    "           print(f'the {self.model} is a self drive car')\n",
    "    #   def start_engine(self):\n",
    "        #   print(f\"The {self.brand} {self.model} sedan's engine has started.\")\n",
    "\n",
    "class SUV(Car1):\n",
    "      def drive(self):\n",
    "           print(f'the {self.model} is not a self drive car')\n",
    "      def start_engine(self):\n",
    "          print(f\"The {self.brand} {self.model} SUV's engine has started.\")\n",
    "\n",
    "my_sedan = Sedan(\"Toyota\", \"Camry\")\n",
    "my_sedan.start_engine()\n",
    "\n",
    "my_suv = SUV(\"Ford\", \"Explorer\")\n",
    "my_suv.start_engine()"
   ]
  },
  {
   "cell_type": "code",
   "execution_count": 14,
   "metadata": {},
   "outputs": [],
   "source": [
    "class Car1(ABC):\n",
    "      def __init__(self, brand, model):\n",
    "          self.brand = brand\n",
    "          self.model = model\n",
    "\n",
    "      @abstractmethod\n",
    "      def start_engine(self): # this is the abstract method and it is use as a key for other chile class to \n",
    "          pass"
   ]
  },
  {
   "cell_type": "code",
   "execution_count": 15,
   "metadata": {},
   "outputs": [],
   "source": [
    "class Sedan(Car1):\n",
    "      def drive(self):\n",
    "           print(f'the {self.model} is a self drive car')\n",
    "    #   def start_engine(self): \n",
    "        #   print(f\"The {self.brand} {self.model} sedan's engine has started.\")"
   ]
  },
  {
   "cell_type": "code",
   "execution_count": 16,
   "metadata": {},
   "outputs": [
    {
     "ename": "TypeError",
     "evalue": "Can't instantiate abstract class Sedan without an implementation for abstract method 'start_engine'",
     "output_type": "error",
     "traceback": [
      "\u001b[1;31m---------------------------------------------------------------------------\u001b[0m",
      "\u001b[1;31mTypeError\u001b[0m                                 Traceback (most recent call last)",
      "Cell \u001b[1;32mIn[16], line 1\u001b[0m\n\u001b[1;32m----> 1\u001b[0m my_sedan \u001b[38;5;241m=\u001b[39m \u001b[43mSedan\u001b[49m\u001b[43m(\u001b[49m\u001b[38;5;124;43m\"\u001b[39;49m\u001b[38;5;124;43mToyota\u001b[39;49m\u001b[38;5;124;43m\"\u001b[39;49m\u001b[43m,\u001b[49m\u001b[43m \u001b[49m\u001b[38;5;124;43m\"\u001b[39;49m\u001b[38;5;124;43mCamry\u001b[39;49m\u001b[38;5;124;43m\"\u001b[39;49m\u001b[43m)\u001b[49m\n",
      "\u001b[1;31mTypeError\u001b[0m: Can't instantiate abstract class Sedan without an implementation for abstract method 'start_engine'"
     ]
    }
   ],
   "source": [
    "my_sedan = Sedan(\"Toyota\", \"Camry\")\n"
   ]
  },
  {
   "cell_type": "code",
   "execution_count": null,
   "metadata": {},
   "outputs": [],
   "source": [
    "class Car1:\n",
    "      def __init__(self, brand, model):\n",
    "          self.brand = brand\n",
    "          self.model = model\n",
    "\n",
    "      \n",
    "      def start_engine(self):\n",
    "          pass\n",
    "\n",
    "class Sedan(Car1):\n",
    "      def drive(self):\n",
    "           print(f'the {self.model} is a self drive car')\n",
    "    #   def start_engine(self):\n",
    "        #   print(f\"The {self.brand} {self.model} sedan's engine has started.\")\n",
    "\n",
    "class SUV(Car1):\n",
    "      def drive(self):\n",
    "           print(f'the {self.model} is not a self drive car')\n",
    "      def start_engine(self):\n",
    "          print(f\"The {self.brand} {self.model} SUV's engine has started.\")\n",
    "\n",
    "my_sedan = Sedan(\"Toyota\", \"Camry\")\n",
    "my_sedan.start_engine()\n",
    "\n",
    "my_suv = SUV(\"Ford\", \"Explorer\")\n",
    "my_suv.start_engine()"
   ]
  },
  {
   "cell_type": "code",
   "execution_count": 13,
   "metadata": {},
   "outputs": [
    {
     "name": "stdout",
     "output_type": "stream",
     "text": [
      "the Camry is a self drive car\n"
     ]
    }
   ],
   "source": [
    "my_sedan.drive()"
   ]
  },
  {
   "cell_type": "code",
   "execution_count": 8,
   "metadata": {},
   "outputs": [
    {
     "name": "stdout",
     "output_type": "stream",
     "text": [
      "The Ford Explorer SUV's engine has started.\n"
     ]
    }
   ],
   "source": [
    "my_suv.start_engine()"
   ]
  },
  {
   "cell_type": "code",
   "execution_count": null,
   "metadata": {},
   "outputs": [],
   "source": []
  }
 ],
 "metadata": {
  "kernelspec": {
   "display_name": "Python 3",
   "language": "python",
   "name": "python3"
  },
  "language_info": {
   "codemirror_mode": {
    "name": "ipython",
    "version": 3
   },
   "file_extension": ".py",
   "mimetype": "text/x-python",
   "name": "python",
   "nbconvert_exporter": "python",
   "pygments_lexer": "ipython3",
   "version": "3.12.1"
  }
 },
 "nbformat": 4,
 "nbformat_minor": 2
}
