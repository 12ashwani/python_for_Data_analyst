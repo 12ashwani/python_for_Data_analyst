{
 "cells": [
  {
   "cell_type": "code",
   "execution_count": 1,
   "metadata": {},
   "outputs": [
    {
     "name": "stdout",
     "output_type": "stream",
     "text": [
      "Hello vishal\n"
     ]
    }
   ],
   "source": [
    "# print the greeting  bby the help of the class\n",
    "class Greting: # creating  a class here \n",
    "    def gg(self,n): #defining the function in a class\n",
    "        ''' this function return the greting by the name of the\n",
    "        variable name ''' \n",
    "        print('Hello',n)# print the graeeting\n",
    "g=Greting() #creating the instance or object of the greeting class as a g\n",
    "g.gg('vishal') # here call the method form the class "
   ]
  },
  {
   "cell_type": "markdown",
   "metadata": {},
   "source": [
    "Add Two Numbers using Class\n"
   ]
  },
  {
   "cell_type": "code",
   "execution_count": 2,
   "metadata": {},
   "outputs": [],
   "source": [
    "class Add:\n",
    "    def add(self,a,b):\n",
    "        return a+b\n",
    "ab=Add()"
   ]
  },
  {
   "cell_type": "code",
   "execution_count": 3,
   "metadata": {},
   "outputs": [
    {
     "data": {
      "text/plain": [
       "8"
      ]
     },
     "execution_count": 3,
     "metadata": {},
     "output_type": "execute_result"
    }
   ],
   "source": [
    "ab.add(3,5)"
   ]
  },
  {
   "cell_type": "markdown",
   "metadata": {},
   "source": [
    "# Create a claculator"
   ]
  },
  {
   "cell_type": "code",
   "execution_count": 17,
   "metadata": {},
   "outputs": [],
   "source": [
    "class Calculator:\n",
    "    def __init__(self,a,b) -> None:\n",
    "        self.a=a\n",
    "        self.b=b\n",
    "\n",
    "    def add(self):\n",
    "        return self.a+self.b\n",
    "    def sub(self):\n",
    "        return self.a-self.b\n",
    "    def mul(self):\n",
    "        return self.a*self.b\n",
    "    def div(self):\n",
    "        return self.a/self.b\n",
    "    \n",
    "cls=Calculator(7,4)"
   ]
  },
  {
   "cell_type": "code",
   "execution_count": 20,
   "metadata": {},
   "outputs": [
    {
     "data": {
      "text/plain": [
       "(11, 3, 28, 1.75)"
      ]
     },
     "execution_count": 20,
     "metadata": {},
     "output_type": "execute_result"
    }
   ],
   "source": [
    "cls.add(),cls.sub(),cls.mul(),cls.div()"
   ]
  },
  {
   "cell_type": "code",
   "execution_count": 16,
   "metadata": {},
   "outputs": [],
   "source": [
    "class Calculator:\n",
    "\n",
    "    def ad(self,a, b):\n",
    "        return a+b\n",
    "    def su(self,a, b):\n",
    "        return a-b\n",
    "    def mu(self,a, b):\n",
    "        return a*b\n",
    "    def di(self,a, b):\n",
    "        return a/b\n",
    "    \n",
    "cl=Calculator()"
   ]
  },
  {
   "cell_type": "markdown",
   "metadata": {},
   "source": [
    "Check Positive, Negative, Zero using Class\n"
   ]
  },
  {
   "cell_type": "code",
   "execution_count": 138,
   "metadata": {},
   "outputs": [
    {
     "data": {
      "text/plain": [
       "'Equal to ZEro'"
      ]
     },
     "execution_count": 138,
     "metadata": {},
     "output_type": "execute_result"
    }
   ],
   "source": [
    "class Chek_p_n:\n",
    "    def checkPNZ(self, x):\n",
    "        if x>0:\n",
    "            return 'positive'\n",
    "        elif x==0:\n",
    "            return 'Equal to ZEro'\n",
    "        else:\n",
    "            return 'Negative'\n",
    "a=Chek_p_n()\n",
    "a.checkPNZ(0)\n",
    "        \n"
   ]
  },
  {
   "cell_type": "code",
   "execution_count": 19,
   "metadata": {},
   "outputs": [
    {
     "name": "stdout",
     "output_type": "stream",
     "text": [
      "12\n",
      "2\n",
      "35\n",
      "0.7142857142857143\n"
     ]
    }
   ],
   "source": [
    "print(cl.ad(5,7))\n",
    "print(cl.su(7,5))\n",
    "print(cl.mu(5,7))\n",
    "print(cl.di(5,7))"
   ]
  },
  {
   "cell_type": "markdown",
   "metadata": {},
   "source": [
    "# check odd or even"
   ]
  },
  {
   "cell_type": "code",
   "execution_count": 28,
   "metadata": {},
   "outputs": [
    {
     "data": {
      "text/plain": [
       "'odd'"
      ]
     },
     "execution_count": 28,
     "metadata": {},
     "output_type": "execute_result"
    }
   ],
   "source": [
    "class odd_evn:\n",
    "    def __init__(self,n) -> None:\n",
    "        self.n=n\n",
    "    def odd_even(self):\n",
    "        if self.n%2!=0:\n",
    "            return 'odd'\n",
    "        else:\n",
    "            return 'even'\n",
    "n=int(input('enter the number'))\n",
    "d=odd_evn(n)\n",
    "\n",
    "        \n",
    "    "
   ]
  },
  {
   "cell_type": "code",
   "execution_count": 29,
   "metadata": {},
   "outputs": [
    {
     "data": {
      "text/plain": [
       "'odd'"
      ]
     },
     "execution_count": 29,
     "metadata": {},
     "output_type": "execute_result"
    }
   ],
   "source": [
    "d.odd_even()"
   ]
  },
  {
   "cell_type": "code",
   "execution_count": 36,
   "metadata": {},
   "outputs": [],
   "source": [
    "class odd_evn:\n",
    "    \n",
    "    def odd_even(self,n):\n",
    "        if n%2!=0:\n",
    "            return 'odd'\n",
    "        else:\n",
    "            return 'even'\n",
    "# n=int(input('enter the number'))\n",
    "d=odd_evn()"
   ]
  },
  {
   "cell_type": "code",
   "execution_count": 38,
   "metadata": {},
   "outputs": [
    {
     "data": {
      "text/plain": [
       "'even'"
      ]
     },
     "execution_count": 38,
     "metadata": {},
     "output_type": "execute_result"
    }
   ],
   "source": [
    "d.odd_even(878)"
   ]
  },
  {
   "cell_type": "markdown",
   "metadata": {},
   "source": [
    "Check Prime Number using Class\n"
   ]
  },
  {
   "cell_type": "code",
   "execution_count": 52,
   "metadata": {},
   "outputs": [
    {
     "data": {
      "text/plain": [
       "'Not prime'"
      ]
     },
     "execution_count": 52,
     "metadata": {},
     "output_type": "execute_result"
    }
   ],
   "source": [
    "class Prime:\n",
    "    def __init__(self, x) -> None:\n",
    "        self.x = x\n",
    "\n",
    "    def checkp(self):\n",
    "        if self.x < 2:\n",
    "            return 'Not prime'\n",
    "        for i in range(2, int(self.x ** 0.5) + 1):\n",
    "            if self.x % i == 0:\n",
    "                return 'Not prime'\n",
    "        return 'Prime'\n",
    "\n",
    "# Creating an instance of the Prime class\n",
    "p = Prime(33)\n",
    "\n",
    "# Checking if the number is prime\n",
    "p.checkp()\n",
    "\n",
    "\n",
    "\n"
   ]
  },
  {
   "cell_type": "code",
   "execution_count": 57,
   "metadata": {},
   "outputs": [
    {
     "name": "stdout",
     "output_type": "stream",
     "text": [
      "16.5\n",
      "5.744562646538029\n"
     ]
    }
   ],
   "source": [
    "x=33\n",
    "print(x/2)\n",
    "print(x**.5)"
   ]
  },
  {
   "cell_type": "code",
   "execution_count": 59,
   "metadata": {},
   "outputs": [],
   "source": [
    "class c_Prim:\n",
    "    def check(self,x):\n",
    "            if x < 2:\n",
    "                return 'Not prime'\n",
    "            for i in range(2, int(x ** 0.5) + 1):\n",
    "                if x % i == 0:\n",
    "                    return 'Not prime'\n",
    "            return 'Prime'\n",
    "pp=c_Prim()"
   ]
  },
  {
   "cell_type": "code",
   "execution_count": 60,
   "metadata": {},
   "outputs": [
    {
     "data": {
      "text/plain": [
       "'Not prime'"
      ]
     },
     "execution_count": 60,
     "metadata": {},
     "output_type": "execute_result"
    }
   ],
   "source": [
    "pp.check(78)"
   ]
  },
  {
   "cell_type": "markdown",
   "metadata": {},
   "source": [
    "Check Alphabet using Class\n"
   ]
  },
  {
   "cell_type": "code",
   "execution_count": 76,
   "metadata": {},
   "outputs": [],
   "source": [
    "class Alpa:\n",
    "    def __init__(self,x) -> None:\n",
    "        self.x=x\n",
    "    def cheacalpha(self):\n",
    "        if len(self.x)>1:\n",
    "            return 'Invalid input .. enter the single alpha bet'\n",
    "        else:\n",
    "            if self.x >= 'a' and self.x <= 'z':\n",
    "                    return 'Alphabet'\n",
    "            elif self.x >= 'A' and self.x <= 'z':\n",
    "                    return 'Alphabet'\n",
    "            else:\n",
    "              return 'Not alphabet'\n",
    "c=input('Enter the character :')\n",
    "a=Alpa(c)\n",
    "\n",
    "\n"
   ]
  },
  {
   "cell_type": "code",
   "execution_count": 77,
   "metadata": {},
   "outputs": [
    {
     "data": {
      "text/plain": [
       "'Alphabet'"
      ]
     },
     "execution_count": 77,
     "metadata": {},
     "output_type": "execute_result"
    }
   ],
   "source": [
    "a.cheacalpha()"
   ]
  },
  {
   "cell_type": "code",
   "execution_count": 87,
   "metadata": {},
   "outputs": [
    {
     "data": {
      "text/plain": [
       "' # is Not an Alphabet'"
      ]
     },
     "execution_count": 87,
     "metadata": {},
     "output_type": "execute_result"
    }
   ],
   "source": [
    "class Alpha2:\n",
    "    def checkAlphabet(self, x):\n",
    "        if len(x) > 1:\n",
    "            return 'Invalide input..Enter the single alphabert:'\n",
    "        else:\n",
    "            if c >= 'a' and c <= 'z' or c >= 'A' and c  <= 'z':\n",
    "                return F'{c} is Alphabet'\n",
    "            else:\n",
    "                return f' {c} is Not an Alphabet'\n",
    "\n",
    "\n",
    "c = input(\"Enter a Character: \")\n",
    "\n",
    "obj = Alpha2()\n",
    "obj.checkAlphabet(c)\n",
    "\n"
   ]
  },
  {
   "cell_type": "markdown",
   "metadata": {},
   "source": [
    "Check Vowel or Consonant using Class\n"
   ]
  },
  {
   "cell_type": "code",
   "execution_count": null,
   "metadata": {},
   "outputs": [],
   "source": [
    "class Point:\n",
    "    def __init__(self,x,y):\n",
    "        self.x=x\n",
    "        self.y=y\n",
    "    "
   ]
  },
  {
   "cell_type": "code",
   "execution_count": 6,
   "metadata": {},
   "outputs": [],
   "source": [
    "class line:\n",
    "    def __init__(self,A,B,C) -> None:\n",
    "        self.A=A\n",
    "        self.B=B\n",
    "        self.C=C\n",
    "\n",
    "    def __str__(self) -> str:\n",
    "        return f'{self.A}x +{self.B}y+{self.C}=0'"
   ]
  },
  {
   "cell_type": "code",
   "execution_count": 8,
   "metadata": {},
   "outputs": [
    {
     "name": "stdout",
     "output_type": "stream",
     "text": [
      "2x +3y+4=0\n"
     ]
    }
   ],
   "source": [
    "l=line(2,3,4)\n",
    "print(l)"
   ]
  },
  {
   "cell_type": "code",
   "execution_count": 121,
   "metadata": {},
   "outputs": [
    {
     "data": {
      "text/plain": [
       "' 9 is Not an Alphabet'"
      ]
     },
     "execution_count": 121,
     "metadata": {},
     "output_type": "execute_result"
    }
   ],
   "source": [
    "class Vow_co:\n",
    "    def check_vowel_con(self, x):\n",
    "        if len(x) > 1:\n",
    "            return 'Invalide input..Enter the single alphabert:'\n",
    "        else:\n",
    "            if c >= 'a' and c <= 'z' or c >= 'A' and c  <= 'z':\n",
    "                vowels = ['a', 'e', 'i', 'o', 'u']\n",
    "                # here ve checkin the input is Vovels or consonat\n",
    "                if x.lower() in vowels:\n",
    "                    return f'{c} is Vowel'\n",
    "                else:\n",
    "                    return f'{c} is cosonant' \n",
    "            else:\n",
    "                return f' {c} is Not an Alphabet'\n",
    "\n",
    "\n",
    "c = input(\"Enter a Character: \")\n",
    "\n",
    "vo = Vow_co()\n",
    "vo.check_vowel_con(c)\n"
   ]
  },
  {
   "cell_type": "markdown",
   "metadata": {},
   "source": [
    "Check Leap Year using Class\n"
   ]
  },
  {
   "cell_type": "code",
   "execution_count": null,
   "metadata": {},
   "outputs": [],
   "source": []
  },
  {
   "cell_type": "code",
   "execution_count": 162,
   "metadata": {},
   "outputs": [
    {
     "data": {
      "text/plain": [
       "' \"Yes\"  is a leap year'"
      ]
     },
     "execution_count": 162,
     "metadata": {},
     "output_type": "execute_result"
    }
   ],
   "source": [
    "class leep:\n",
    "    def __init__(self,year) -> None:\n",
    "        self.year=year\n",
    "    def checkleap(self):\n",
    "        if self.year % 4 == 0 and self.year % 100 != 0 or self.year % 400 == 0:\n",
    "                return ' \"Yes\"  is a leap year'\n",
    "        else:\n",
    "             return f' \"No\" {self.year} is not a leap year'\n",
    "year=int(input('Enter the year :'))            \n",
    "y=leep(year)\n",
    "y.checkleap()\n"
   ]
  },
  {
   "cell_type": "code",
   "execution_count": 1,
   "metadata": {},
   "outputs": [],
   "source": [
    "class Remove_d:\n",
    "    def __init__(self,mm) -> None:\n",
    "        self.mm=mm\n",
    "# This function is working as remove duplicat from the string \n",
    "    def remov_dup_from_str(self):\n",
    "        '''This function is working as remove duplicat from the\n",
    "          string it return a string as result\n",
    "'''\n",
    "        s=''\n",
    "        a=self.mm\n",
    "        for i in a:\n",
    "            if i in s:\n",
    "                continue\n",
    "            else:\n",
    "                s+=i\n",
    "        return s\n",
    "    def remov_dup_from_lst(self):\n",
    "        '''This function is working as remove duplicat from the\n",
    "           it return a filtered list as result'''\n",
    "        s=[]\n",
    "        a=self.mm\n",
    "        for i in a:\n",
    "         if i in s:\n",
    "            continue\n",
    "         else:\n",
    "            s.append(i)\n",
    "        return s"
   ]
  },
  {
   "cell_type": "code",
   "execution_count": 4,
   "metadata": {},
   "outputs": [],
   "source": [
    "b='hsdfgfkjhjyuo'\n",
    "\n",
    "re=Remove_d(b)"
   ]
  },
  {
   "cell_type": "code",
   "execution_count": 5,
   "metadata": {},
   "outputs": [
    {
     "data": {
      "text/plain": [
       "'hsdfgkjyuo'"
      ]
     },
     "execution_count": 5,
     "metadata": {},
     "output_type": "execute_result"
    }
   ],
   "source": [
    "re.remov_dup_from_str()"
   ]
  },
  {
   "cell_type": "markdown",
   "metadata": {},
   "source": [
    "Check Armstrong Number using Class\n"
   ]
  },
  {
   "cell_type": "code",
   "execution_count": 153,
   "metadata": {},
   "outputs": [
    {
     "data": {
      "text/plain": [
       "'78 is not Armstrong'"
      ]
     },
     "execution_count": 153,
     "metadata": {},
     "output_type": "execute_result"
    }
   ],
   "source": [
    "class Armst:\n",
    "    def __init__(self,x):\n",
    "        self.x=x\n",
    "    def checkArm(self):\n",
    "        nof_di=len(str(self.x))\n",
    "        res=0\n",
    "        temp=self.x\n",
    "        while self.x>0:\n",
    "            rem=self.x%10\n",
    "            res=res+(rem**nof_di)\n",
    "            self.x=int(self.x/10)\n",
    "        if res==temp:\n",
    "            return f'{x} is an Armstrong'\n",
    "        else:\n",
    "            return f'{x} is not Armstrong'\n",
    "        \n",
    "x=int(input(''))\n",
    "a=Armst(x)\n",
    "a.checkArm()"
   ]
  },
  {
   "cell_type": "code",
   "execution_count": null,
   "metadata": {},
   "outputs": [],
   "source": [
    "obj_at_one = data_scientists[1]\n",
    "obj_age = data_scientists[0][1]\n",
    "obj_a = sample[2:3]\n",
    "obj_b = sample[0::3]\n",
    "obj_c = sample[:4]\n",
    "obj_one = n_arr[1:]\n",
    "obj_two = n_arr[1:, :2]\n",
    "obj_three = n_arr[0, 1:]\n",
    "obj_four = n_arr[0:1, 1:]\n"
   ]
  },
  {
   "cell_type": "code",
   "execution_count": null,
   "metadata": {},
   "outputs": [],
   "source": []
  },
  {
   "cell_type": "code",
   "execution_count": null,
   "metadata": {},
   "outputs": [],
   "source": []
  },
  {
   "cell_type": "code",
   "execution_count": null,
   "metadata": {},
   "outputs": [],
   "source": []
  },
  {
   "cell_type": "code",
   "execution_count": null,
   "metadata": {},
   "outputs": [],
   "source": []
  },
  {
   "cell_type": "code",
   "execution_count": null,
   "metadata": {},
   "outputs": [],
   "source": []
  },
  {
   "cell_type": "code",
   "execution_count": 149,
   "metadata": {},
   "outputs": [
    {
     "name": "stdout",
     "output_type": "stream",
     "text": [
      "The number 89 is not Armstrong.\n"
     ]
    }
   ],
   "source": [
    "class Armst:\n",
    "    def __init__(self,x) -> None:\n",
    "\n",
    "        self.x = x\n",
    "\n",
    "    def checkArm(self):\n",
    "        nof_di = len(str(self.x))\n",
    "        res = 0\n",
    "        temp = self.x\n",
    "        while self.x > 0:\n",
    "            rem = self.x % 10\n",
    "            res = res + (rem ** nof_di)\n",
    "            self.x = int(self.x / 10)\n",
    "        if res == temp:\n",
    "            return 'is an Armstrong'\n",
    "        else:\n",
    "            return 'is not Armstrong'\n",
    "\n",
    "x = int(input('Enter a number: '))\n",
    "a = Armst(x)\n",
    "result = a.checkArm()\n",
    "print(f'The number {x} {result}.')\n"
   ]
  },
  {
   "cell_type": "markdown",
   "metadata": {},
   "source": [
    "project-Data procesing"
   ]
  },
  {
   "cell_type": "code",
   "execution_count": null,
   "metadata": {},
   "outputs": [],
   "source": [
    "df2.to_sql(name='users', con=engine, if_exists='append')\n",
    "\n",
    "\n",
    "with open ('employee.json', 'r') as emp:\n",
    "    data = json.load(emp)\n",
    "    \n",
    "print(data)\n",
    "df=pd.DataFrame(data['objects'])\n",
    "df\n",
    "df[df['ID']=='8']\n",
    "header= list(df.keys())\n",
    "header\n",
    "conn = sqlite3.connect(\"data.db\")\n",
    "cursor=conn.cursor()\n",
    "cursor\n",
    "cursor. execute(\"CREATE TABLE Employees(ID int, JobTitle VARCHAR(250), EmailAddress VARCHAR(250), FirstNameLastName VARCHAR(150), vaccinated txt(5))\")\n",
    "conn = sqlite3.connect(\"data.db\")\n",
    "def bonus(vaccinated):\n",
    "    if vaccinated=='TRUE':\n",
    "        return 0.15\n",
    "    else:\n",
    "        return 0.05\n",
    "dfs['bonus']=dfs['vaccinated'].apply(bonus)\n",
    "dfs"
   ]
  },
  {
   "cell_type": "code",
   "execution_count": null,
   "metadata": {},
   "outputs": [],
   "source": []
  }
 ],
 "metadata": {
  "kernelspec": {
   "display_name": "Python 3",
   "language": "python",
   "name": "python3"
  },
  "language_info": {
   "codemirror_mode": {
    "name": "ipython",
    "version": 3
   },
   "file_extension": ".py",
   "mimetype": "text/x-python",
   "name": "python",
   "nbconvert_exporter": "python",
   "pygments_lexer": "ipython3",
   "version": "3.12.1"
  }
 },
 "nbformat": 4,
 "nbformat_minor": 2
}
