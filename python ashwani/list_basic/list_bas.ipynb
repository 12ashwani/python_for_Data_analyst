{
 "cells": [
  {
   "cell_type": "markdown",
   "metadata": {},
   "source": [
    "python list program"
   ]
  },
  {
   "cell_type": "code",
   "execution_count": 3,
   "metadata": {},
   "outputs": [],
   "source": [
    "# 1-inter chnage the firs and last one elements\n",
    "l=[1,3,34,4,5,5,6,66,56]\n",
    "def interchange(lis1):\n",
    "    '''this function is use to inter change the all values first one to \n",
    "    last one by the help of the function this function use the lis data stacture '''\n",
    "    size=len(lis1) # find the list lenght by the help of the len function\n",
    "    temp=lis1[0]\n",
    "    lis1[0]=lis1[size-1]\n",
    "    lis1[size-1]=temp\n",
    "    return lis1\n"
   ]
  },
  {
   "cell_type": "code",
   "execution_count": 8,
   "metadata": {},
   "outputs": [
    {
     "data": {
      "text/plain": [
       "[1, 3, 34, 4, 5, 5, 6, 66, 56]"
      ]
     },
     "execution_count": 8,
     "metadata": {},
     "output_type": "execute_result"
    }
   ],
   "source": [
    "interchange(l)"
   ]
  },
  {
   "cell_type": "code",
   "execution_count": 6,
   "metadata": {},
   "outputs": [],
   "source": [
    "# 1-a- by the hepl we can inter change the value \n",
    "def ss2(ll):\n",
    "    ll[0],ll[-1]=ll[-1],ll[0]\n",
    "    return ll"
   ]
  },
  {
   "cell_type": "code",
   "execution_count": 1,
   "metadata": {},
   "outputs": [
    {
     "name": "stdout",
     "output_type": "stream",
     "text": [
      "Total no. of words are: 131\n"
     ]
    }
   ],
   "source": [
    "tex=(\"The normal distribution is a symmetric probability focused on the mean. This means that data close to the mean occur more frequently than data far from it\")\n",
    "\n",
    "def count_words(tex):\n",
    "    b = tex.replace(\" \",\"\")     \n",
    "    return(b)\n",
    "\n",
    "b = count_words(tex)\n",
    "print(\"Total no. of words are:\", (len(b)))"
   ]
  },
  {
   "cell_type": "code",
   "execution_count": 9,
   "metadata": {},
   "outputs": [
    {
     "data": {
      "text/plain": [
       "[56, 3, 34, 4, 5, 5, 6, 66, 1]"
      ]
     },
     "execution_count": 9,
     "metadata": {},
     "output_type": "execute_result"
    }
   ],
   "source": [
    "ss2(l)"
   ]
  },
  {
   "cell_type": "code",
   "execution_count": 11,
   "metadata": {},
   "outputs": [
    {
     "name": "stdout",
     "output_type": "stream",
     "text": [
      "Even number list  [4, 6, 6, 88, 8, 4, 2]\n",
      "odd number list [1, 3, 5, 7, 7, 65, 33]\n"
     ]
    }
   ],
   "source": [
    "a = [1,3,4,5,6,6,7,88,8,7,65,4,33,2]\n",
    "\n",
    "even = []\n",
    "odd = []\n",
    "\n",
    "for i in a:\n",
    "    if i % 2 == 0:\n",
    "        even.append(i)\n",
    "    else:\n",
    "        odd.append(i)\n",
    "\n",
    "# print(f'Even number list {even},odd number list {odd}')\n",
    "print('Even number list ',even)\n",
    "print('odd number list', odd)"
   ]
  },
  {
   "cell_type": "markdown",
   "metadata": {},
   "source": [
    "Python | Reversing a List"
   ]
  },
  {
   "cell_type": "code",
   "execution_count": 12,
   "metadata": {},
   "outputs": [
    {
     "data": {
      "text/plain": [
       "[1, 66, 6, 5, 5, 4, 34, 3, 56]"
      ]
     },
     "execution_count": 12,
     "metadata": {},
     "output_type": "execute_result"
    }
   ],
   "source": [
    "reverse=l[::-1]\n",
    "reverse\n"
   ]
  },
  {
   "cell_type": "markdown",
   "metadata": {},
   "source": [
    "Python program to find sum of elements in list"
   ]
  },
  {
   "cell_type": "code",
   "execution_count": 14,
   "metadata": {},
   "outputs": [
    {
     "name": "stdout",
     "output_type": "stream",
     "text": [
      "sum of the list 180\n"
     ]
    }
   ],
   "source": [
    "s=0\n",
    "for i in l:\n",
    "    s=s+i\n",
    "print('sum of the list',s)\n"
   ]
  },
  {
   "cell_type": "markdown",
   "metadata": {},
   "source": [
    "Python program to find second largest number in a list\n"
   ]
  },
  {
   "cell_type": "code",
   "execution_count": 16,
   "metadata": {},
   "outputs": [
    {
     "name": "stdout",
     "output_type": "stream",
     "text": [
      "second highest number is : 56\n"
     ]
    }
   ],
   "source": [
    "# find the second max number by the help of the define function\n",
    "mm=max(l[0],l[1])\n",
    "sec_m=min(l[0],l[1])\n",
    "for i in range(2,len(l)):\n",
    "    if l[i]>mm:\n",
    "        sec_m=mm\n",
    "        mm=l[i]\n",
    "    elif l[i]>mm and mm!=l[i]:\n",
    "        sec_m=l[i]\n",
    "    elif l[i]!=sec_m and mm==sec_m:\n",
    "        sec_m=l[i]\n",
    "print('second highest number is :',sec_m)"
   ]
  },
  {
   "cell_type": "code",
   "execution_count": 1,
   "metadata": {},
   "outputs": [],
   "source": [
    "list1 = [10, 20, 20, 4, 45, 45, 45, 99, 99]\n",
    "def seco_max(list1):\n",
    "\n",
    "# Removing duplicates from the list\n",
    "    list2 = list(set(list1))\n",
    " \n",
    "# Sorting the  list\n",
    "    list2.sort()\n",
    "    return list2[-2]\n",
    "# Printing the second last element\n"
   ]
  },
  {
   "cell_type": "code",
   "execution_count": 4,
   "metadata": {},
   "outputs": [
    {
     "data": {
      "text/plain": [
       "56"
      ]
     },
     "execution_count": 4,
     "metadata": {},
     "output_type": "execute_result"
    }
   ],
   "source": [
    "seco_max(l)"
   ]
  },
  {
   "cell_type": "markdown",
   "metadata": {},
   "source": [
    "Python program to find N largest elements from a list"
   ]
  },
  {
   "cell_type": "code",
   "execution_count": 37,
   "metadata": {},
   "outputs": [],
   "source": [
    "def n_largest(ll):\n",
    "    n=int(input('Enter the number find the largset in the list :'))\n",
    "    if n<len(ll):\n",
    "        ll.sort()\n",
    "        return ll[-n:]\n",
    "    \n"
   ]
  },
  {
   "cell_type": "code",
   "execution_count": 38,
   "metadata": {},
   "outputs": [
    {
     "data": {
      "text/plain": [
       "[56, 66]"
      ]
     },
     "execution_count": 38,
     "metadata": {},
     "output_type": "execute_result"
    }
   ],
   "source": [
    "n_largest(l)"
   ]
  },
  {
   "cell_type": "code",
   "execution_count": 41,
   "metadata": {},
   "outputs": [],
   "source": [
    "def n_min(ll):\n",
    "    n=int(input('Enter the number find the largset in the list :'))\n",
    "    if n<len(ll):\n",
    "        ll.sort()\n",
    "        return ll[:n]"
   ]
  },
  {
   "cell_type": "code",
   "execution_count": 42,
   "metadata": {},
   "outputs": [
    {
     "data": {
      "text/plain": [
       "[1, 3]"
      ]
     },
     "execution_count": 42,
     "metadata": {},
     "output_type": "execute_result"
    }
   ],
   "source": [
    "n_min(l)"
   ]
  },
  {
   "cell_type": "code",
   "execution_count": 56,
   "metadata": {},
   "outputs": [],
   "source": [
    "def odd_even(ll):\n",
    "    n=input('Enter the OD for odd and EV for even :')\n",
    "    if n.lower()==\"od\":\n",
    "        return [i for i in l if i%2!=0]\n",
    "    elif n.lower()==\"ev\":\n",
    "        return [i for i in l if i%2==0]\n",
    "    else:\n",
    "        print('invalide input.. try again')\n"
   ]
  },
  {
   "cell_type": "code",
   "execution_count": 57,
   "metadata": {},
   "outputs": [
    {
     "data": {
      "text/plain": [
       "[1, 3, 5, 5]"
      ]
     },
     "execution_count": 57,
     "metadata": {},
     "output_type": "execute_result"
    }
   ],
   "source": [
    "odd_even(l)"
   ]
  },
  {
   "cell_type": "markdown",
   "metadata": {},
   "source": [
    "# This program is design to filter the data from the list "
   ]
  },
  {
   "cell_type": "code",
   "execution_count": 59,
   "metadata": {},
   "outputs": [],
   "source": [
    "def remove_emp_str_dup(l1):\n",
    "  '''This function provides a filter list according to the user,\n",
    "    here we filter the list according to the user. \n",
    "    It offers many filter options'''\n",
    "  \n",
    "  t1=input('''\n",
    "  Enter the comand for remove in your list :-\n",
    "  for empty list EMP:-\n",
    "  for string STR    :-\n",
    "  for duplicat DP   :-''')\n",
    "  r=[]\n",
    "#   Here we remove the empty list from the list \n",
    "  if 'emp'==t1.lower():\n",
    "    for i in l1:\n",
    "      if i ==[]:\n",
    "        continue\n",
    "      else:\n",
    "        r.append(i)\n",
    "    # print( 'without Empty list \\n',r)\n",
    "    return r\n",
    "  # here we remove the str in the given list \n",
    "  elif 'str'==t1.lower():\n",
    "    for i in l1:\n",
    "      if type(i)==type('str'):\n",
    "        continue\n",
    "      else:\n",
    "        r.append(i)\n",
    "    return r\n",
    "    # print( 'without string element list\\n',r)\n",
    "# here we remove the duplicate value from the list by chosing the dp comand\n",
    "  elif 'dp'==t1.lower():\n",
    "    for i in l1:\n",
    "      if i not in r:\n",
    "        r.append(i)\n",
    "    return r\n",
    "    # print( 'without duplicate element list\\n',)\n",
    "  # elif 'dp'==t1.lower():\n",
    "  else:\n",
    "    print('Sorry inptut is invalid  Try again !')\n",
    "  # return r\n"
   ]
  },
  {
   "cell_type": "markdown",
   "metadata": {},
   "source": [
    "Break a list into chunks of size N in Python\n"
   ]
  },
  {
   "cell_type": "code",
   "execution_count": 60,
   "metadata": {},
   "outputs": [
    {
     "data": {
      "text/plain": [
       "[11, 2, 3, 4, 5, 6, 7, [], 88, 'dffdg', 55, 543, 1]"
      ]
     },
     "execution_count": 60,
     "metadata": {},
     "output_type": "execute_result"
    }
   ],
   "source": [
    "l1=[11,2,3.8,3,4,5,5,6.5,7,7,88,'dffdg',6,'55',5.43,3,1]\n",
    "remove_emp_str_dup(l1)\n"
   ]
  },
  {
   "cell_type": "code",
   "execution_count": 9,
   "metadata": {},
   "outputs": [],
   "source": [
    "l=[i for i in range(1,21)]"
   ]
  },
  {
   "cell_type": "code",
   "execution_count": 33,
   "metadata": {},
   "outputs": [
    {
     "ename": "ValueError",
     "evalue": "invalid literal for int() with base 10: 'srr'",
     "output_type": "error",
     "traceback": [
      "\u001b[1;31m---------------------------------------------------------------------------\u001b[0m",
      "\u001b[1;31mValueError\u001b[0m                                Traceback (most recent call last)",
      "Cell \u001b[1;32mIn[33], line 2\u001b[0m\n\u001b[0;32m      1\u001b[0m \u001b[38;5;28;01mimport\u001b[39;00m \u001b[38;5;21;01mrandom\u001b[39;00m\n\u001b[1;32m----> 2\u001b[0m inp\u001b[38;5;241m=\u001b[39m\u001b[38;5;28;43mint\u001b[39;49m\u001b[43m(\u001b[49m\u001b[38;5;28;43minput\u001b[39;49m\u001b[43m(\u001b[49m\u001b[38;5;124;43m'\u001b[39;49m\u001b[38;5;124;43minput two digit number :\u001b[39;49m\u001b[38;5;124;43m'\u001b[39;49m\u001b[43m)\u001b[49m\u001b[43m)\u001b[49m\n\u001b[0;32m      4\u001b[0m c\u001b[38;5;241m=\u001b[39m\u001b[38;5;241m0\u001b[39m\n\u001b[0;32m      5\u001b[0m \u001b[38;5;28;01mif\u001b[39;00m \u001b[38;5;28mlen\u001b[39m(\u001b[38;5;28mstr\u001b[39m(inp))\u001b[38;5;241m==\u001b[39m\u001b[38;5;241m2\u001b[39m \u001b[38;5;129;01mor\u001b[39;00m \u001b[38;5;28mint\u001b[39m()\u001b[38;5;241m==\u001b[39m\u001b[38;5;28mtype\u001b[39m(inp):\n",
      "\u001b[1;31mValueError\u001b[0m: invalid literal for int() with base 10: 'srr'"
     ]
    }
   ],
   "source": [
    "import random\n",
    "inp=int(input('input two digit number :'))\n",
    "\n",
    "c=0\n",
    "if len(str(inp))==2 or int()==type(inp):\n",
    "    while True:\n",
    "        ra = random.randint(10, 99)\n",
    "        if inp==ra:\n",
    "            print('your code is ',inp)\n",
    "            break\n",
    "        else:\n",
    "            c+=1\n",
    "            # print(ra)\n",
    "    print('total iteration is ',c)\n",
    "else:\n",
    "    print('Invelid input.. Try again')   \n"
   ]
  },
  {
   "cell_type": "code",
   "execution_count": 35,
   "metadata": {},
   "outputs": [
    {
     "name": "stdout",
     "output_type": "stream",
     "text": [
      "Invalid input. Please enter a valid two-digit number.\n"
     ]
    }
   ],
   "source": [
    "import random\n",
    "\n",
    "inp = input('Input a two-digit number: ')\n",
    "\n",
    "# Check if the input is a valid two-digit number\n",
    "if inp.isdigit() and 10 <= int(inp) <= 99:\n",
    "    inp = int(inp)\n",
    "    c = 0\n",
    "\n",
    "    while True:\n",
    "        ra = random.randint(10, 99)\n",
    "        if inp == ra:\n",
    "            print('Your guess is correct! The number is', inp)\n",
    "            break\n",
    "        else:\n",
    "            c += 1\n",
    "            # Optionally, you can print the generated random number for debugging\n",
    "            # print(ra)\n",
    "\n",
    "    print('Total iterations:', c)\n",
    "else:\n",
    "    print('Invalid input. Please enter a valid two-digit number.')\n"
   ]
  },
  {
   "cell_type": "markdown",
   "metadata": {},
   "source": [
    "Break a list into chunks of size N in Python\n"
   ]
  },
  {
   "cell_type": "code",
   "execution_count": 61,
   "metadata": {},
   "outputs": [
    {
     "name": "stdout",
     "output_type": "stream",
     "text": [
      "[1, 2, 3]\n",
      "[4, 5, 6]\n",
      "[7, 8, 9]\n"
     ]
    }
   ],
   "source": [
    "my_list = [1, 2, 3, 4, 5, 6, 7, 8, 9] \n",
    "start = 0\n",
    "end = len(my_list) \n",
    "step = 3\n",
    "for i in range(start, end, step): \n",
    "    x = i \n",
    "    print(my_list[x:x+step]) "
   ]
  },
  {
   "cell_type": "markdown",
   "metadata": {},
   "source": [
    "# Python program to find Cumulative sum of a list\n",
    "The problem statement asks to produce a new list whose i^{th} element will be equal to the sum of the (i + 1) elements.\n",
    "\n"
   ]
  },
  {
   "cell_type": "code",
   "execution_count": 62,
   "metadata": {},
   "outputs": [],
   "source": [
    "def cumulative_sume(ll):\n",
    "    cu_l=[]\n",
    "    s=0\n",
    "    for i in ll:\n",
    "        s=s+i\n",
    "        cu_l.append(s)\n",
    "\n",
    "    return cu_l\n"
   ]
  },
  {
   "cell_type": "code",
   "execution_count": 63,
   "metadata": {},
   "outputs": [
    {
     "data": {
      "text/plain": [
       "[10, 30, 60, 100, 150]"
      ]
     },
     "execution_count": 63,
     "metadata": {},
     "output_type": "execute_result"
    }
   ],
   "source": [
    "lists = [10, 20, 30, 40, 50] \n",
    "cumulative_sume(lists)"
   ]
  },
  {
   "cell_type": "markdown",
   "metadata": {},
   "source": [
    "Sort the values of first list using second list in Python\n"
   ]
  },
  {
   "cell_type": "code",
   "execution_count": 68,
   "metadata": {},
   "outputs": [],
   "source": [
    "def sort_list(ll,ll1):\n",
    "    '''this function sort the list on the basis of the other list \n",
    "    '''\n",
    "    zipper=zip(ll1,ll)\n",
    "    z=[x for _,x in sorted(zipper)]\n",
    "    return z"
   ]
  },
  {
   "cell_type": "code",
   "execution_count": 65,
   "metadata": {},
   "outputs": [
    {
     "data": {
      "text/plain": [
       "['a', 'd', 'h', 'b', 'c', 'e', 'i', 'f', 'g']"
      ]
     },
     "execution_count": 65,
     "metadata": {},
     "output_type": "execute_result"
    }
   ],
   "source": [
    "x = [\"a\", \"b\", \"c\", \"d\", \"e\", \"f\", \"g\", \"h\", \"i\"]\n",
    "y = [0,   1,   1,    0,   1,   2,   2,   0,   1]\n",
    "sort_list(x,y)"
   ]
  },
  {
   "cell_type": "code",
   "execution_count": 66,
   "metadata": {},
   "outputs": [],
   "source": [
    "x = [\"g\", \"e\", \"e\", \"k\", \"s\", \"f\", \"o\", \"r\", \"g\", \"e\", \"e\", \"k\", \"s\"]\n",
    "y = [0,   1,   1,    0,   1,   2,   2,   0,   1]"
   ]
  },
  {
   "cell_type": "markdown",
   "metadata": {},
   "source": [
    "Convert a list into a tuple without Using builtin function\n"
   ]
  },
  {
   "cell_type": "code",
   "execution_count": 5,
   "metadata": {},
   "outputs": [],
   "source": [
    "def convert_list_to_tuple(lst):\n",
    "    tu = ()  # Empty tuple to store the converted elements\n",
    "    for i in lst:\n",
    "        tu += (i,)  # Append each element to the tuple\n",
    "    return tu"
   ]
  },
  {
   "cell_type": "code",
   "execution_count": 8,
   "metadata": {},
   "outputs": [
    {
     "name": "stdout",
     "output_type": "stream",
     "text": [
      "Simaran alasi\n"
     ]
    }
   ],
   "source": [
    "name='Simaran Kalasi'\n",
    "s=\"\"\n",
    "for  i in name:\n",
    "    if i==\"K\":\n",
    "        continue\n",
    "    else:\n",
    "       s=s+i\n",
    "print(s)\n"
   ]
  },
  {
   "cell_type": "code",
   "execution_count": 9,
   "metadata": {},
   "outputs": [
    {
     "name": "stdout",
     "output_type": "stream",
     "text": [
      "(1, 2, 3, 4, 5, 6)\n"
     ]
    }
   ],
   "source": [
    "list = [1,2,3,4,5,6]\n",
    "tuple = ()\n",
    "for i in list:\n",
    "    tuple += (i,)\n",
    "print(tuple)"
   ]
  },
  {
   "cell_type": "code",
   "execution_count": 6,
   "metadata": {},
   "outputs": [
    {
     "data": {
      "text/plain": [
       "(1, 3, 34, 4, 5, 5, 6, 66, 56)"
      ]
     },
     "execution_count": 6,
     "metadata": {},
     "output_type": "execute_result"
    }
   ],
   "source": [
    "convert_list_to_tuple(l)"
   ]
  },
  {
   "cell_type": "markdown",
   "metadata": {},
   "source": [
    "Python Program to Convert a List to String\n",
    "\n"
   ]
  },
  {
   "cell_type": "code",
   "execution_count": 75,
   "metadata": {},
   "outputs": [],
   "source": [
    "def list_to_str(s):\n",
    "    '''this function only work with \n",
    "    string  list'''\n",
    "    st=''\n",
    "    for i in s:\n",
    "        st=st+i\n",
    "    return st\n"
   ]
  },
  {
   "cell_type": "code",
   "execution_count": 77,
   "metadata": {},
   "outputs": [
    {
     "data": {
      "text/plain": [
       "'GeeksforGeeks'"
      ]
     },
     "execution_count": 77,
     "metadata": {},
     "output_type": "execute_result"
    }
   ],
   "source": [
    "s = ['Geeks', 'for', 'Geeks']\n",
    "\n",
    "list_to_str(s)"
   ]
  },
  {
   "cell_type": "code",
   "execution_count": 78,
   "metadata": {},
   "outputs": [],
   "source": [
    "def list_to_str2(s):\n",
    "    listToStr = ' '.join(map(str, s))\n",
    "    return listToStr\n",
    "\n"
   ]
  },
  {
   "cell_type": "code",
   "execution_count": 2,
   "metadata": {},
   "outputs": [],
   "source": [
    "def list_from_str2(s):\n",
    "    listToStr = ' '.join(map(list, s))\n",
    "    return listToStr\n"
   ]
  },
  {
   "cell_type": "code",
   "execution_count": 3,
   "metadata": {},
   "outputs": [
    {
     "ename": "TypeError",
     "evalue": "sequence item 0: expected str instance, list found",
     "output_type": "error",
     "traceback": [
      "\u001b[1;31m---------------------------------------------------------------------------\u001b[0m",
      "\u001b[1;31mTypeError\u001b[0m                                 Traceback (most recent call last)",
      "Cell \u001b[1;32mIn[3], line 1\u001b[0m\n\u001b[1;32m----> 1\u001b[0m \u001b[43mlist_from_str2\u001b[49m\u001b[43m(\u001b[49m\u001b[38;5;124;43m'\u001b[39;49m\u001b[38;5;124;43mAshwani kumar\u001b[39;49m\u001b[38;5;124;43m'\u001b[39;49m\u001b[43m)\u001b[49m\n",
      "Cell \u001b[1;32mIn[2], line 2\u001b[0m, in \u001b[0;36mlist_from_str2\u001b[1;34m(s)\u001b[0m\n\u001b[0;32m      1\u001b[0m \u001b[38;5;28;01mdef\u001b[39;00m \u001b[38;5;21mlist_from_str2\u001b[39m(s):\n\u001b[1;32m----> 2\u001b[0m     listToStr \u001b[38;5;241m=\u001b[39m \u001b[38;5;124;43m'\u001b[39;49m\u001b[38;5;124;43m \u001b[39;49m\u001b[38;5;124;43m'\u001b[39;49m\u001b[38;5;241;43m.\u001b[39;49m\u001b[43mjoin\u001b[49m\u001b[43m(\u001b[49m\u001b[38;5;28;43mmap\u001b[39;49m\u001b[43m(\u001b[49m\u001b[38;5;28;43mlist\u001b[39;49m\u001b[43m,\u001b[49m\u001b[43m \u001b[49m\u001b[43ms\u001b[49m\u001b[43m)\u001b[49m\u001b[43m)\u001b[49m\n\u001b[0;32m      3\u001b[0m     \u001b[38;5;28;01mreturn\u001b[39;00m listToStr\n",
      "\u001b[1;31mTypeError\u001b[0m: sequence item 0: expected str instance, list found"
     ]
    }
   ],
   "source": [
    "list_from_str2('Ashwani kumar')"
   ]
  },
  {
   "cell_type": "code",
   "execution_count": null,
   "metadata": {},
   "outputs": [],
   "source": []
  },
  {
   "cell_type": "markdown",
   "metadata": {},
   "source": [
    "convert string to list"
   ]
  },
  {
   "cell_type": "code",
   "execution_count": 4,
   "metadata": {},
   "outputs": [
    {
     "name": "stdout",
     "output_type": "stream",
     "text": [
      "List from CSV string: ['apple', 'orange', 'banana']\n"
     ]
    }
   ],
   "source": [
    "# Example: Split string into a list using a specific delimiter (comma in this case)\n",
    "csv_string = \"apple,orange,banana\"\n",
    "list_from_csv = csv_string.split(',')\n",
    "print(\"List from CSV string:\", list_from_csv)\n",
    "# Output: ['apple', 'orange', 'banana']\n"
   ]
  },
  {
   "cell_type": "code",
   "execution_count": 79,
   "metadata": {},
   "outputs": [
    {
     "data": {
      "text/plain": [
       "'I want 4 apples and 18 bananas'"
      ]
     },
     "execution_count": 79,
     "metadata": {},
     "output_type": "execute_result"
    }
   ],
   "source": [
    "s = ['I', 'want', 4, 'apples', 'and', 18, 'bananas']\n",
    " \n",
    "\n",
    "list_to_str2(s)"
   ]
  },
  {
   "cell_type": "code",
   "execution_count": 14,
   "metadata": {},
   "outputs": [
    {
     "name": "stdout",
     "output_type": "stream",
     "text": [
      "1,2,3,4,5\n"
     ]
    },
    {
     "data": {
      "text/plain": [
       "str"
      ]
     },
     "execution_count": 14,
     "metadata": {},
     "output_type": "execute_result"
    }
   ],
   "source": [
    "s = ['1', '2', '3', '4','5']\n",
    "listToStr =','.join(map(str, s))\n",
    "print((listToStr))\n",
    "type(listToStr)"
   ]
  },
  {
   "cell_type": "code",
   "execution_count": 13,
   "metadata": {},
   "outputs": [
    {
     "name": "stdout",
     "output_type": "stream",
     "text": [
      "[1, 2, 3, 4, 5]\n"
     ]
    }
   ],
   "source": [
    "s = ['1', '2', '3', '4','5']\n",
    "listToStr =list(map(int, s))\n",
    "print(listToStr)\n"
   ]
  },
  {
   "cell_type": "markdown",
   "metadata": {},
   "source": [
    "how to merge two list into a single list\n"
   ]
  },
  {
   "cell_type": "code",
   "execution_count": 89,
   "metadata": {},
   "outputs": [],
   "source": []
  },
  {
   "cell_type": "code",
   "execution_count": 90,
   "metadata": {},
   "outputs": [
    {
     "data": {
      "text/plain": [
       "[1, 2, 3, 4, 5, 1, 2, 3, 4, 5]"
      ]
     },
     "execution_count": 90,
     "metadata": {},
     "output_type": "execute_result"
    }
   ],
   "source": [
    "li=[1, 2, 3, 4, 5, 1, 2, 3, 4, 5]\n"
   ]
  },
  {
   "cell_type": "markdown",
   "metadata": {},
   "source": [
    "Python | Get unique values from a list"
   ]
  },
  {
   "cell_type": "code",
   "execution_count": 91,
   "metadata": {},
   "outputs": [
    {
     "name": "stdout",
     "output_type": "stream",
     "text": [
      "[1, 2, 3, 4, 5]\n"
     ]
    }
   ],
   "source": [
    "dl=[]\n",
    "for i in range(len(li)):\n",
    "    if li[i] not in dl:\n",
    "        dl.append(li[i])\n",
    "print(dl)\n"
   ]
  },
  {
   "cell_type": "code",
   "execution_count": 8,
   "metadata": {},
   "outputs": [
    {
     "data": {
      "text/plain": [
       "24"
      ]
     },
     "execution_count": 8,
     "metadata": {},
     "output_type": "execute_result"
    }
   ],
   "source": [
    "tex=(\"The normal distribution is a symmetric probability focused on the mean. This means that data close to the mean occur more frequently than data far from it\")\n",
    "l=tex.split(' ')\n",
    "len(l)"
   ]
  },
  {
   "cell_type": "code",
   "execution_count": 6,
   "metadata": {},
   "outputs": [
    {
     "data": {
      "text/plain": [
       "['The',\n",
       " 'normal',\n",
       " 'distribution',\n",
       " 'is',\n",
       " 'a',\n",
       " 'symmetric',\n",
       " 'probability',\n",
       " 'focused',\n",
       " 'on',\n",
       " 'the',\n",
       " 'mean.',\n",
       " 'This',\n",
       " 'means',\n",
       " 'that',\n",
       " 'data',\n",
       " 'close',\n",
       " 'to',\n",
       " 'the',\n",
       " 'mean',\n",
       " 'occur',\n",
       " 'more',\n",
       " 'frequently',\n",
       " 'than',\n",
       " 'data\\xa0far\\xa0from\\xa0it']"
      ]
     },
     "execution_count": 6,
     "metadata": {},
     "output_type": "execute_result"
    }
   ],
   "source": [
    "l"
   ]
  },
  {
   "cell_type": "code",
   "execution_count": null,
   "metadata": {},
   "outputs": [],
   "source": []
  }
 ],
 "metadata": {
  "kernelspec": {
   "display_name": "Python 3",
   "language": "python",
   "name": "python3"
  },
  "language_info": {
   "codemirror_mode": {
    "name": "ipython",
    "version": 3
   },
   "file_extension": ".py",
   "mimetype": "text/x-python",
   "name": "python",
   "nbconvert_exporter": "python",
   "pygments_lexer": "ipython3",
   "version": "3.12.1"
  }
 },
 "nbformat": 4,
 "nbformat_minor": 2
}
