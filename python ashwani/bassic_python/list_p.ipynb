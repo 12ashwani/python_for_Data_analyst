{
 "cells": [
  {
   "cell_type": "code",
   "execution_count": 2,
   "metadata": {},
   "outputs": [
    {
     "name": "stdout",
     "output_type": "stream",
     "text": [
      "[4, 3, 4, 5, 6, 7, 82, 1]\n"
     ]
    }
   ],
   "source": [
    "# python program to inerchange the first and last\n",
    "l1=[1,3,4,5,6,7,82,4]\n",
    "l1[0],l1[-1]=l1[-1],l1[0]\n",
    "print(l1)"
   ]
  },
  {
   "cell_type": "code",
   "execution_count": 3,
   "metadata": {},
   "outputs": [],
   "source": [
    "list1=[1,3,4,5,6,7,82,4]\n"
   ]
  },
  {
   "cell_type": "code",
   "execution_count": 12,
   "metadata": {},
   "outputs": [
    {
     "name": "stdout",
     "output_type": "stream",
     "text": [
      "list befor swaping \n",
      " [1, 3, 5, 6, 4, 7, 82, 4]\n",
      "list after swaping the element in a list\n",
      " [1, 3, 7, 6, 4, 5, 82, 4]\n"
     ]
    }
   ],
   "source": [
    "def swap(list1):\n",
    "  n1=int(input('Enter the first number to chnage '))\n",
    "  n2=int(input('Enter the second number to chnage '))\n",
    "  print('list befor swaping \\n',list1)\n",
    "  list1[n1],list1[n2]=list1[n2],list1[n1]\n",
    "  print('list after swaping the element in a list\\n',list1)\n",
    "\n",
    "\n",
    "swap(list1)"
   ]
  },
  {
   "cell_type": "code",
   "execution_count": 13,
   "metadata": {},
   "outputs": [],
   "source": [
    "ll=[1, 13, 6, 45, 4, 7, 8,2, 4]"
   ]
  },
  {
   "cell_type": "code",
   "execution_count": 14,
   "metadata": {},
   "outputs": [
    {
     "name": "stdout",
     "output_type": "stream",
     "text": [
      "list befor swaping \n",
      " [1, 13, 6, 45, 4, 7, 8, 2, 4]\n",
      "list after swaping the element in a list\n",
      " [1, 13, 7, 45, 4, 6, 8, 2, 4]\n"
     ]
    }
   ],
   "source": [
    "swap(ll)"
   ]
  },
  {
   "cell_type": "code",
   "execution_count": 15,
   "metadata": {},
   "outputs": [
    {
     "data": {
      "text/plain": [
       "[11, 2, 3, 3, 4, 5, 5, 6, 7, [], 7, 7, [], 88, 6, 55, 543, 3, 1]"
      ]
     },
     "execution_count": 15,
     "metadata": {},
     "output_type": "execute_result"
    }
   ],
   "source": [
    "l1=[11,2,3,3,4,5,5,6,7,[],7,7,[],88,'dffdg',6,55,543,3,1]\n",
    "def remove_emp_str_dup(l1):\n",
    "  '''This function provide a filter list according  to user here \n",
    "  we filtr the list in mainly'''\n",
    "  t1=input('''\n",
    "  Enter the comand for remove in your list :-\n",
    "  for empty list EMP:-\n",
    "  for string STR    :-\n",
    "  for duplicat DP   :-''')\n",
    "  r=[]\n",
    "  if 'emp'==t1.lower():\n",
    "    for i in l1:\n",
    "      if i ==[]:\n",
    "        continue\n",
    "      else:\n",
    "        r.append(i)\n",
    "    # print( 'without Empty list \\n',r)\n",
    "    return r\n",
    "  elif 'str'==t1.lower():\n",
    "    for i in l1:\n",
    "      if type(i)==type('str'):\n",
    "        continue\n",
    "      else:\n",
    "        r.append(i)\n",
    "    return r\n",
    "    # print( 'without string element list\\n',r)\n",
    "\n",
    "  elif 'dp'==t1.lower():\n",
    "    for i in l1:\n",
    "      if i not in r:\n",
    "        r.append(i)\n",
    "    return r\n",
    "    # print( 'without duplicate element list\\n',)\n",
    "  # elif 'dp'==t1.lower():\n",
    "  else:\n",
    "    print('Sorry inptut is invalid  Try again !')\n",
    "  # return r\n",
    "remove_emp_str_dup(l1)\n"
   ]
  },
  {
   "cell_type": "code",
   "execution_count": 6,
   "metadata": {},
   "outputs": [],
   "source": [
    "import gretr_less_equal as gle\n",
    "gle.less_ten(7,6)"
   ]
  },
  {
   "cell_type": "code",
   "execution_count": 11,
   "metadata": {},
   "outputs": [],
   "source": [
    "def grater(a,b):\n",
    "    if a>b:\n",
    "        return f'{a} is greter then {b}'\n",
    "    else:\n",
    "        return f'{b} is greter then {a}'"
   ]
  },
  {
   "cell_type": "code",
   "execution_count": 12,
   "metadata": {},
   "outputs": [
    {
     "data": {
      "text/plain": [
       "'68 is greter then 45'"
      ]
     },
     "execution_count": 12,
     "metadata": {},
     "output_type": "execute_result"
    }
   ],
   "source": [
    "grater(45,68)"
   ]
  },
  {
   "cell_type": "code",
   "execution_count": null,
   "metadata": {},
   "outputs": [],
   "source": []
  }
 ],
 "metadata": {
  "kernelspec": {
   "display_name": "Python 3",
   "language": "python",
   "name": "python3"
  },
  "language_info": {
   "codemirror_mode": {
    "name": "ipython",
    "version": 3
   },
   "file_extension": ".py",
   "mimetype": "text/x-python",
   "name": "python",
   "nbconvert_exporter": "python",
   "pygments_lexer": "ipython3",
   "version": "3.12.1"
  }
 },
 "nbformat": 4,
 "nbformat_minor": 2
}
