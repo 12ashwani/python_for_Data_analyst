{
 "cells": [
  {
   "cell_type": "code",
   "execution_count": 4,
   "metadata": {},
   "outputs": [
    {
     "name": "stdout",
     "output_type": "stream",
     "text": [
      "Hello word\n"
     ]
    }
   ],
   "source": [
    "# start the python from basics\n",
    "print(\"Hello word\")"
   ]
  },
  {
   "cell_type": "markdown",
   "metadata": {},
   "source": [
    "## python opertors, variable and datatypes\n",
    "* *Datatypes*-python maily used the given data type \n",
    "1-int,2-froat,3-strings,4-boolean,5-"
   ]
  },
  {
   "cell_type": "code",
   "execution_count": null,
   "metadata": {},
   "outputs": [],
   "source": [
    "# python variable \n",
    "a=55 # here 'a' is a variable name and it stored or assign the 55 interger value\n",
    "fg=45# here 'gg' is a variable name and it stored or assign the 45 interger value\n",
    "print('the  sum of the two values is :',a+fg) # here we using the (+) opertor\n",
    "print('the subtraction of the two values is :',a-fg) # here we using the (-) opertor\n",
    "print('the multiplication of the two values is  :',a*fg) # here we using the (*) opertor\n",
    "print('the division of the two values is :',a/fg) # here we using the (/) opertor\n",
    "print('the flor division is applied to the values to get the absoulute value',a//fg) # here we using the (//) opertor\n",
    "print('here we use the modulation opertor to find the reminder :',a%fg) # here we using the (%) opertor\n",
    "\n",
    "\n",
    "\n"
   ]
  },
  {
   "cell_type": "markdown",
   "metadata": {},
   "source": [
    "## finding the maximum number\n",
    "\n"
   ]
  },
  {
   "cell_type": "code",
   "execution_count": null,
   "metadata": {},
   "outputs": [],
   "source": [
    "a=int(input('Please enter the first number -:'))\n",
    "b=int(input('Please enter the second number -:'))\n",
    "if a>b:\n",
    "    print(f'{a} is maximum number')\n",
    "else:\n",
    "    print(f'{b} is a maximum number')"
   ]
  },
  {
   "cell_type": "code",
   "execution_count": null,
   "metadata": {},
   "outputs": [],
   "source": [
    "# now creating the a new function which is help to find the maximum number\n",
    "def maximum(a,b):\n",
    "    if a>b:\n",
    "        return a\n",
    "    else:\n",
    "        return b\n",
    "    # a=int(input('Please enter the first number -:'))\n",
    "    # b=int(input('Please enter the second number -:'))\n",
    "    maximum(a,b)"
   ]
  },
  {
   "cell_type": "code",
   "execution_count": null,
   "metadata": {},
   "outputs": [],
   "source": [
    "maximum(3,6)"
   ]
  },
  {
   "cell_type": "code",
   "execution_count": 8,
   "metadata": {},
   "outputs": [
    {
     "data": {
      "text/plain": [
       "647"
      ]
     },
     "execution_count": 8,
     "metadata": {},
     "output_type": "execute_result"
    }
   ],
   "source": [
    "# now here we find the max and minimum values from the given list or other dataset by he help of python scripte\n",
    "list1=[1,34,65,67,78,24,57,78,647]\n",
    "max(list1)"
   ]
  },
  {
   "cell_type": "code",
   "execution_count": null,
   "metadata": {},
   "outputs": [],
   "source": [
    "# now here we find the maximum values by using the for loop\n",
    "ma=0\n",
    "for i in list1:\n",
    "    if i>ma:\n",
    "        ma=i\n",
    "print(ma)"
   ]
  },
  {
   "cell_type": "code",
   "execution_count": 4,
   "metadata": {},
   "outputs": [
    {
     "data": {
      "text/plain": [
       "0"
      ]
     },
     "execution_count": 4,
     "metadata": {},
     "output_type": "execute_result"
    }
   ],
   "source": [
    "# herer we define the a function which is help to find the any list maximum\n",
    "\n",
    "def maxlist(list_1): \n",
    "    m=0\n",
    "    for i in list_1:\n",
    "        if i>m:\n",
    "           m=i\n",
    "    return m\n",
    "l=[]\n",
    "maxlist(l)"
   ]
  },
  {
   "cell_type": "code",
   "execution_count": 10,
   "metadata": {},
   "outputs": [
    {
     "name": "stdout",
     "output_type": "stream",
     "text": [
      "4 is a maximum number\n"
     ]
    }
   ],
   "source": [
    "# find the maximum by using the lamda function\n",
    "a=2;b=4\n",
    "maximum = lambda a,b:a if a > b else b\n",
    "print(f'{maximum(a,b)} is a maximum number')"
   ]
  },
  {
   "cell_type": "markdown",
   "metadata": {},
   "source": [
    "## Factorial finding "
   ]
  },
  {
   "cell_type": "code",
   "execution_count": 128,
   "metadata": {},
   "outputs": [
    {
     "data": {
      "text/plain": [
       "24"
      ]
     },
     "execution_count": 128,
     "metadata": {},
     "output_type": "execute_result"
    }
   ],
   "source": [
    "def fact_1(n):\n",
    "    if n<0: # if the values of n is less thenn 0 then we return the factorial 0\n",
    "        return 0\n",
    "    elif n==0 or n==1:\n",
    "        return 1  # here check the condition ifthe given condtion is n=0 or n=1 then we return the factorial 1\n",
    "    else:        #if we given the input geater then 1 the we find the factorial of that number\n",
    "        fact_1=1 # here initially factorial is equal to 1\n",
    "        while(n>1): # here we using the while loop condition is input greater then the 1\n",
    "            fact_1*=n  # this loop every itration decrease input value by and multiply with fact_1 and \n",
    "            n-=1\n",
    "        return fact_1 # return the value of fact_1 as factorial of that value which is given by the \n",
    "\n",
    "fact_1(n=int(input('ff')))"
   ]
  },
  {
   "cell_type": "code",
   "execution_count": 129,
   "metadata": {},
   "outputs": [
    {
     "data": {
      "text/plain": [
       "120"
      ]
     },
     "execution_count": 129,
     "metadata": {},
     "output_type": "execute_result"
    }
   ],
   "source": [
    "fact_1(5)"
   ]
  },
  {
   "cell_type": "code",
   "execution_count": 30,
   "metadata": {},
   "outputs": [
    {
     "data": {
      "text/plain": [
       "720"
      ]
     },
     "execution_count": 30,
     "metadata": {},
     "output_type": "execute_result"
    }
   ],
   "source": [
    "# finding factorial by the help of the using the recursion \n",
    "def fact(n):\n",
    "    if n==0 or n==1:\n",
    "        return 1\n",
    "    else:\n",
    "        return n*fact(n-1)\n",
    "'''call this function to calculat factorial any number\n",
    "like fact(5) output is 120 you get \n",
    "'''\n",
    "        \n",
    "fact(n=int(input('Enter the value to find the factorial')))"
   ]
  },
  {
   "cell_type": "markdown",
   "metadata": {},
   "source": [
    "## Simple interst\n"
   ]
  },
  {
   "cell_type": "code",
   "execution_count": 40,
   "metadata": {},
   "outputs": [
    {
     "name": "stdout",
     "output_type": "stream",
     "text": [
      "The principal is 8\n",
      "The time period is 6\n",
      "The rate of interest is 8\n",
      "The Simple Interest is 3.84\n"
     ]
    },
    {
     "data": {
      "text/plain": [
       "3.84"
      ]
     },
     "execution_count": 40,
     "metadata": {},
     "output_type": "execute_result"
    }
   ],
   "source": [
    "\n",
    "def simple_interest(p,t,r):\n",
    "    print('The principal is', p)\n",
    "    print('The time period is', t)\n",
    "    print('The rate of interest is',r)\n",
    "     \n",
    "    si = (p * t * r)/100\n",
    "     \n",
    "    print('The Simple Interest is', si)\n",
    "    return si\n",
    "     \n",
    "# Driver code\n",
    "simple_interest(8, 6, 8)"
   ]
  },
  {
   "cell_type": "code",
   "execution_count": 58,
   "metadata": {},
   "outputs": [
    {
     "name": "stdout",
     "output_type": "stream",
     "text": [
      "principle value -: 100\n",
      "time value -: 12\n",
      "interest rate value -: 12.0\n"
     ]
    },
    {
     "data": {
      "text/plain": [
       "144.0"
      ]
     },
     "execution_count": 58,
     "metadata": {},
     "output_type": "execute_result"
    }
   ],
   "source": [
    "def sml(p,t,r):\n",
    "    print('principle value -:',p)\n",
    "    print('time value -:',t)\n",
    "    print('interest rate value -:',r)\n",
    "    while True:\n",
    "        user_input = input(\"Enter a command (type 'No' to end): \")\n",
    "        \n",
    "        if user_input.lower() == 'no':\n",
    "            print(\"Stopping the loop.\")\n",
    "            break  # Exit the loop if the user enters 'stop'\n",
    "        si = (p * t * r)/100\n",
    "        return round(si,1)\n",
    "                           \n",
    "\n",
    "sml(p=int(input('Enter the principle amount')),t=int(input('Enter the time (year) -:')),r=float(input('Enter interset rat -:')))\n",
    "    \n"
   ]
  },
  {
   "cell_type": "code",
   "execution_count": 57,
   "metadata": {},
   "outputs": [
    {
     "name": "stdout",
     "output_type": "stream",
     "text": [
      "Principal value -: 45566.0\n",
      "Time value -: 1.0\n",
      "Interest rate value -: 4.0\n",
      "Simple Interest: 1822.64\n",
      "Calculation successful.\n"
     ]
    }
   ],
   "source": [
    "def calculate_simple_interest(p, t, r):\n",
    "    print('Principal value -:', p)\n",
    "    print('Time value -:', t)\n",
    "    print('Interest rate value -:', r)\n",
    "\n",
    "    while True:\n",
    "        user_input = input(\"Do you want to calculate Simple Interest? (type 'yes' to calculate, 'no' to stop): \")\n",
    "\n",
    "        if user_input.lower() == 'no':\n",
    "            print(\"Stopping the calculation.\")\n",
    "            return None\n",
    "\n",
    "        elif user_input.lower() == 'yes':\n",
    "            si = (p * t * r) / 100\n",
    "            print(f\"Simple Interest: {si}\")\n",
    "            return round(si,1)\n",
    "\n",
    "        else:\n",
    "            print(\"Invalid input. Please enter 'yes' to continue the calculation or 'no' to stop.\")\n",
    "\n",
    "if __name__ == \"__main__\":\n",
    "    principle = float(input(\"Enter the principal amount: \"))\n",
    "    time = float(input(\"Enter the time (in years): \"))\n",
    "    rate = float(input(\"Enter the interest rate: \"))\n",
    "\n",
    "    result = calculate_simple_interest(principle, time, rate)\n",
    "\n",
    "    if result is not None:\n",
    "        print(\"Calculation successful.\")\n"
   ]
  },
  {
   "cell_type": "markdown",
   "metadata": {},
   "source": [
    "## compound interest"
   ]
  },
  {
   "cell_type": "code",
   "execution_count": 59,
   "metadata": {},
   "outputs": [
    {
     "name": "stdout",
     "output_type": "stream",
     "text": [
      "ttyyy\n"
     ]
    }
   ],
   "source": [
    "if 2+5==25:\n",
    "    print('hhh')\n",
    "else:\n",
    "    print('ttyyy')\n"
   ]
  },
  {
   "cell_type": "code",
   "execution_count": 55,
   "metadata": {},
   "outputs": [
    {
     "name": "stdout",
     "output_type": "stream",
     "text": [
      "Compound interest is 6288.9\n"
     ]
    }
   ],
   "source": [
    "def comp_irst(principal, rate, time):\n",
    " \n",
    "    ''' Calculates the compound intrest by the help of comp_irst function \n",
    "     This function calculate the interest  '''\n",
    "    Amount = principal * (pow((1 + rate / 100), time))\n",
    "    CI = Amount - principal\n",
    "    print(\"Compound interest is\", round(CI,1))\n",
    "comp_irst(10000, 10.25, 5)"
   ]
  },
  {
   "cell_type": "code",
   "execution_count": 56,
   "metadata": {},
   "outputs": [
    {
     "name": "stdout",
     "output_type": "stream",
     "text": [
      "Compound interest is 210.0\n"
     ]
    }
   ],
   "source": [
    "comp_irst(1000,10,2)"
   ]
  },
  {
   "cell_type": "code",
   "execution_count": 96,
   "metadata": {},
   "outputs": [
    {
     "name": "stdout",
     "output_type": "stream",
     "text": [
      "[[54, 75], [104, 145], [154, 215]]\n"
     ]
    }
   ],
   "source": [
    "a = [[1, 2, 3], [4, 5, 6]]\n",
    "b = [[10, 11], [20, 21], [30, 31]]\n",
    "c = [[0, 0], [0, 0], [0, 0]]\n",
    "\n",
    "for row in range(3):  # Iterate up to the size of c (3x2 matrix)\n",
    "    for col in range(2):  # Iterate up to the size of c (3x2 matrix)\n",
    "        for k in range(2):  # Iterate up to the size of a's column or b's row\n",
    "            c[row][col] += b[row][k] * a[k][col]\n",
    "\n",
    "print(c)\n"
   ]
  },
  {
   "cell_type": "code",
   "execution_count": 104,
   "metadata": {},
   "outputs": [
    {
     "name": "stdout",
     "output_type": "stream",
     "text": [
      "[[54, 75], [104, 145], [154, 215]]\n",
      "2\n"
     ]
    },
    {
     "data": {
      "text/plain": [
       "3"
      ]
     },
     "execution_count": 104,
     "metadata": {},
     "output_type": "execute_result"
    }
   ],
   "source": [
    " #Assignment week-5 python*\n",
    "\n",
    "A=[[1,2,3],  [4,5,6]] # here we create a matrix A(2*3) this matrix contain the 2 rows and 3 columns  \n",
    "B=[[10,11],  [20,21], [30,31]]         # here we create a matrix B(3*2) this matrix contain the 3 rows and 2 columns  \n",
    "  \n",
    "   \n",
    "C=[[0,0],[0,0],[0,0]] # The multiplication of A*B stor in C matrix(3*2) this matrix contains 3 row and 2 columns\n",
    "\n",
    "for row in range(3):  # This for loop itreting three time \n",
    "\n",
    "    for col in range(2): # This for loop itreting two time\n",
    " \n",
    "        for k in range(2): # This for loop itreting two time here 'k' is common in both A and B matrix\n",
    "            C[row][col] += B[row][k] * A[k][col]\n",
    "print(C)\n",
    "print(len(C[0]))\n",
    "len(C)"
   ]
  },
  {
   "cell_type": "code",
   "execution_count": 105,
   "metadata": {},
   "outputs": [
    {
     "name": "stdout",
     "output_type": "stream",
     "text": [
      "hello hi\n"
     ]
    }
   ],
   "source": [
    "print(\"hello\", end=\" \") \n",
    "print(\"hi\") "
   ]
  },
  {
   "cell_type": "markdown",
   "metadata": {},
   "source": [
    "## Python Program to Check Armstrong Number\n",
    "a positive integer of n digits is called an Armestrongs number of order n \n",
    "Example- 153\n",
    "1^3+5^3+3^3=1+125+27=153\n",
    "this is a Armstrong number\n",
    "\n",
    "\n"
   ]
  },
  {
   "cell_type": "code",
   "execution_count": 28,
   "metadata": {},
   "outputs": [
    {
     "name": "stdout",
     "output_type": "stream",
     "text": [
      "This number 153 is an Armstrong number.\n"
     ]
    }
   ],
   "source": [
    "def arm_num(n):\n",
    "    temp = n\n",
    "    # Find the length of the input number to check if it's an Armstrong number\n",
    "    pow = len(str(n))\n",
    "    sum1 = 0\n",
    "\n",
    "    while temp != 0:\n",
    "        r = temp % 10\n",
    "        sum1 = sum1 + r**pow\n",
    "        temp = temp // 10\n",
    "\n",
    "    if n == sum1:\n",
    "        print(f'This number {n} is an Armstrong number.')\n",
    "    else:\n",
    "        print(f'This number {n} is not an Armstrong number.')\n",
    "\n",
    "# Get user input for the number\n",
    "n = int(input('Enter the number: '))\n",
    "\n",
    "# Call the function\n",
    "arm_num(n)\n"
   ]
  },
  {
   "cell_type": "markdown",
   "metadata": {},
   "source": [
    "## Find the area of the circul\n",
    " area= pi*r^2"
   ]
  },
  {
   "cell_type": "code",
   "execution_count": 37,
   "metadata": {},
   "outputs": [
    {
     "name": "stdout",
     "output_type": "stream",
     "text": [
      "The area of a circle with radius 4.0 is: 50.272\n"
     ]
    }
   ],
   "source": [
    "def circle_area(r):\n",
    "    '''This function finds the area of a circle'''\n",
    "    pi = 3.142\n",
    "    A = pi * (r * r)\n",
    "    return A\n",
    "\n",
    "# Get user input for the radius\n",
    "r = float(input('Enter the radius of the circle: '))\n",
    "\n",
    "# Call the function\n",
    "area = circle_area(r)\n",
    "\n",
    "# Print the result\n",
    "print(f'The area of a circle with radius {r} is: {area}')\n"
   ]
  },
  {
   "cell_type": "markdown",
   "metadata": {},
   "source": [
    "## print the Prime number"
   ]
  },
  {
   "cell_type": "code",
   "execution_count": 1,
   "metadata": {},
   "outputs": [],
   "source": [
    "def check_prime(n):\n",
    "    ''' This function is used to check the given number is prime or not \n",
    "    '''\n",
    "    if n>1:\n",
    "        for i in range(2, int(n/2)+1):\n",
    "            if n%i==0:\n",
    "                print(f' This {n} number is not a prime number ')\n",
    "                break\n",
    "        else:\n",
    "            return (f' This {n} number is  a prime number ')\n",
    "    else:\n",
    "        print('This number is not valide please enter the valide number')\n",
    "n=int(input ('Enter the number to check the number is prime or not :'))\n",
    "lw=check_prime( n)\n",
    "\n"
   ]
  },
  {
   "cell_type": "code",
   "execution_count": 3,
   "metadata": {},
   "outputs": [
    {
     "data": {
      "text/plain": [
       "' This 5 number is  a prime number '"
      ]
     },
     "execution_count": 3,
     "metadata": {},
     "output_type": "execute_result"
    }
   ],
   "source": [
    "check_prime(5)"
   ]
  },
  {
   "cell_type": "code",
   "execution_count": 40,
   "metadata": {},
   "outputs": [
    {
     "name": "stdout",
     "output_type": "stream",
     "text": [
      "[3, 5, 7]\n"
     ]
    }
   ],
   "source": [
    "def prime_list(x, y):\n",
    "    '''This function is used for creating the a prime number list  in specific range which is provided by the user'''\n",
    "    prime_list = []\n",
    "\n",
    "    for i in range(x, y + 1):  # Include y in the range\n",
    "        if i < 2:\n",
    "            continue\n",
    "        else:\n",
    "            for j in range(2, int(i/2) + 1):\n",
    "                if i % j == 0:\n",
    "                    break\n",
    "            else:\n",
    "                prime_list.append(i)\n",
    "\n",
    "    return prime_list\n",
    "\n",
    "x = int(input('Enter the starting range: '))\n",
    "y = int(input('Enter the ending range: '))\n",
    "lst = prime_list(x, y)\n",
    "print(lst)\n"
   ]
  },
  {
   "cell_type": "markdown",
   "metadata": {},
   "source": [
    "##   Fibonacci number  series\n",
    "Fibonacci series is a type of series in which the sum of the last two numbers \n",
    "is equal to the third number of the series and the sequence will continue"
   ]
  },
  {
   "cell_type": "code",
   "execution_count": 110,
   "metadata": {},
   "outputs": [
    {
     "name": "stdout",
     "output_type": "stream",
     "text": [
      "[0, 1, 1, 2, 3, 5, 8, 13, 21]\n"
     ]
    }
   ],
   "source": [
    "def fibo_series(n):\n",
    "    a=[]\n",
    "    if n<=0:\n",
    "        print('Invalied input')\n",
    "    elif n==1:\n",
    "       a=[0]\n",
    "    elif n==2:\n",
    "        a=[0,1]\n",
    "    else:\n",
    "        a=[0,1]\n",
    "        for i in range(2,n):\n",
    "           a.append(a[i-1]+a[i-2])\n",
    "    return a\n",
    "n=int(input(' enter the number :'))\n",
    "\n",
    "result=fibo_series(n)\n",
    "print(result)\n"
   ]
  },
  {
   "cell_type": "code",
   "execution_count": 111,
   "metadata": {},
   "outputs": [
    {
     "data": {
      "text/plain": [
       "[0, 1, 1]"
      ]
     },
     "execution_count": 111,
     "metadata": {},
     "output_type": "execute_result"
    }
   ],
   "source": [
    "fibo_series(3\n",
    ")"
   ]
  },
  {
   "cell_type": "code",
   "execution_count": 109,
   "metadata": {},
   "outputs": [
    {
     "name": "stdout",
     "output_type": "stream",
     "text": [
      "The Fibonacci sequence up to the 5-th term is: [0, 1, 1, 2, 3]\n"
     ]
    }
   ],
   "source": [
    "def fibonacci_sequence(n):\n",
    "    fib_sequence = []\n",
    "    \n",
    "    if n <= 0:\n",
    "        print('Incorrect input')\n",
    "    elif n == 1:\n",
    "        fib_sequence = [0]\n",
    "    elif n == 2:\n",
    "        fib_sequence = [0, 1]\n",
    "    else:\n",
    "        fib_sequence = [0, 1]\n",
    "        for i in range(2, n):\n",
    "            fib_sequence.append(fib_sequence[i-1] + fib_sequence[i-2])\n",
    "    \n",
    "    return fib_sequence\n",
    "\n",
    "# Take user input for the range\n",
    "n = int(input('Enter the number to create the Fibonacci sequence: '))\n",
    "\n",
    "# Get the Fibonacci sequence\n",
    "result_sequence = fibonacci_sequence(n)\n",
    "\n",
    "# Print the result\n",
    "print(f\"The Fibonacci sequence up to the {n}-th term is: {result_sequence}\")\n"
   ]
  },
  {
   "cell_type": "code",
   "execution_count": 120,
   "metadata": {},
   "outputs": [
    {
     "name": "stdout",
     "output_type": "stream",
     "text": [
      "The 8th term in the Fibonacci sequence is: 13\n"
     ]
    }
   ],
   "source": [
    "# This function is used for the find the position of the any number of the fibonacci series\n",
    "def fibo(n):\n",
    "    if n <= 0:\n",
    "        print('Incorrect input')\n",
    "    elif n == 1:\n",
    "        return 0\n",
    "    elif n == 2:\n",
    "        return 1\n",
    "    else:\n",
    "        return fibo(n-1) + fibo(n-2)\n",
    "\n",
    "# Take user input for the range\n",
    "n = int(input('Enter the number to find the Fibonacci sequence: '))\n",
    "\n",
    "# Print the result\n",
    "result = fibo(n)\n",
    "print(f\"The {n}th term in the Fibonacci sequence is: {result}\")\n"
   ]
  },
  {
   "cell_type": "markdown",
   "metadata": {},
   "source": [
    "## Python Program for Sum of squares of first n natural numbers\n"
   ]
  },
  {
   "cell_type": "code",
   "execution_count": 118,
   "metadata": {},
   "outputs": [
    {
     "name": "stdout",
     "output_type": "stream",
     "text": [
      "1,4,9,16,25,\n",
      "The sum of the series: 55\n"
     ]
    }
   ],
   "source": [
    "n= int(input('Enter the number to find the square  of its :'))\n",
    "sum=0\n",
    "for i in range(1,n+1):\n",
    "    print(i**2,end=',')\n",
    "    sum= sum+ i**2\n",
    "# Print the sum on a new line\n",
    "print('\\nThe sum of the series:', sum)\n"
   ]
  },
  {
   "cell_type": "code",
   "execution_count": 124,
   "metadata": {},
   "outputs": [
    {
     "data": {
      "text/plain": [
       "[0, 0, 0, 0, 0]"
      ]
     },
     "execution_count": 124,
     "metadata": {},
     "output_type": "execute_result"
    }
   ],
   "source": [
    "players=5\n",
    "player_scores = [0 for _ in range(players)]\n",
    "player_scores"
   ]
  },
  {
   "cell_type": "code",
   "execution_count": 125,
   "metadata": {},
   "outputs": [
    {
     "name": "stderr",
     "output_type": "stream",
     "text": [
      "'version' is not recognized as an internal or external command,\n",
      "operable program or batch file.\n"
     ]
    }
   ],
   "source": [
    "! version\n"
   ]
  },
  {
   "cell_type": "code",
   "execution_count": 51,
   "metadata": {},
   "outputs": [
    {
     "name": "stdout",
     "output_type": "stream",
     "text": [
      "❤️\n"
     ]
    }
   ],
   "source": [
    "print(\"\\u2764\\ufe0f\")\n"
   ]
  },
  {
   "cell_type": "code",
   "execution_count": 81,
   "metadata": {},
   "outputs": [
    {
     "name": "stdout",
     "output_type": "stream",
     "text": [
      "  *   *   *   *   \n",
      "*       *       * \n",
      "*               * \n",
      "*      ABC      * \n",
      "  *           *   \n",
      "    *       *     \n",
      "      *   *       \n",
      "        *        \n"
     ]
    }
   ],
   "source": []
  },
  {
   "cell_type": "code",
   "execution_count": 220,
   "metadata": {},
   "outputs": [
    {
     "name": "stdout",
     "output_type": "stream",
     "text": [
      "  *   *   *   *   \n",
      "*       *       * \n",
      "*               * \n",
      "*      ABC      *\n",
      "  *           *   \n",
      "    *       *     \n",
      "      *   *       \n",
      "        *         \n"
     ]
    }
   ],
   "source": []
  },
  {
   "cell_type": "code",
   "execution_count": 191,
   "metadata": {},
   "outputs": [
    {
     "name": "stdout",
     "output_type": "stream",
     "text": [
      "  * *   * *   \n",
      "*     *     * \n",
      "*           * \n",
      "  *       *   \n",
      "    *   *     \n",
      "      *       \n"
     ]
    }
   ],
   "source": []
  },
  {
   "cell_type": "code",
   "execution_count": 17,
   "metadata": {},
   "outputs": [
    {
     "name": "stdout",
     "output_type": "stream",
     "text": [
      "  *   *   *   *   \n",
      "*       *       * \n",
      "*               * \n",
      "*       ABC      * \n",
      "*                 \n",
      "  *           *   \n",
      "    *       *     \n",
      "      *   *       \n",
      "        *         \n"
     ]
    }
   ],
   "source": [
    "n=8\n",
    "for row in range( n//2):\n",
    "    for col in range(n+1):\n",
    "        if  (row == 0 and col % 2 != 0) or (row == 1 and col % 4== 0)or (row == 2 and col % 8 == 0)  or (row==3 and col%8==0):#\n",
    "          print('*',end=' ')\n",
    "        \n",
    "        elif row==3 and col==4:\n",
    "            print(\"ABC\",end='')\n",
    "        else:\n",
    "            print(' ',end=' ')\n",
    "    print()\n",
    "for row in range(3 ,n):\n",
    "  for col in range(n+1):\n",
    "      if  (row -col==3 ) or( row == 4 and col==7 ) or ( row == 5 and col==6 ) or ( row == 6 and col==5 ) :\n",
    "            print('*',end=' ')\n",
    "      else: \n",
    "            print(' ',end=' ')\n",
    "  print()"
   ]
  },
  {
   "cell_type": "code",
   "execution_count": 210,
   "metadata": {},
   "outputs": [
    {
     "name": "stdout",
     "output_type": "stream",
     "text": [
      "*               * \n",
      "  *           *   \n",
      "    *       *     \n",
      "      *   *       \n",
      "        *         \n"
     ]
    }
   ],
   "source": [
    "n=8\n",
    "for row in range(3 ,n):\n",
    "    for col in range(n+1):\n",
    "         if  (row -col==3 ) or (row==3 and col%8==0) or( row == 4 and col==7 ) or ( row == 5 and col==6 ) or ( row == 6 and col==5 ) :\n",
    "            print('*',end=' ')\n",
    "         else: \n",
    "            print(' ',end=' ')\n",
    "    print()"
   ]
  },
  {
   "cell_type": "markdown",
   "metadata": {},
   "source": [
    "assingment opertor"
   ]
  },
  {
   "cell_type": "code",
   "execution_count": 6,
   "metadata": {},
   "outputs": [],
   "source": [
    "a=6\n",
    "b=6"
   ]
  },
  {
   "cell_type": "code",
   "execution_count": 11,
   "metadata": {},
   "outputs": [],
   "source": [
    "g=7\n",
    "g=11"
   ]
  },
  {
   "cell_type": "code",
   "execution_count": 8,
   "metadata": {},
   "outputs": [
    {
     "data": {
      "text/plain": [
       "True"
      ]
     },
     "execution_count": 8,
     "metadata": {},
     "output_type": "execute_result"
    }
   ],
   "source": [
    "a is b #"
   ]
  },
  {
   "cell_type": "code",
   "execution_count": 12,
   "metadata": {},
   "outputs": [
    {
     "data": {
      "text/plain": [
       "11"
      ]
     },
     "execution_count": 12,
     "metadata": {},
     "output_type": "execute_result"
    }
   ],
   "source": [
    "g"
   ]
  },
  {
   "cell_type": "code",
   "execution_count": 20,
   "metadata": {},
   "outputs": [],
   "source": [
    "def greater_than(a,b):\n",
    "    # a=int(input('Enter the value of a :'))\n",
    "    # b=int(input('Enter the value of b :'))\n",
    "    if a>b:\n",
    "        return a\n",
    "    else:\n",
    "        return b"
   ]
  },
  {
   "cell_type": "code",
   "execution_count": 25,
   "metadata": {},
   "outputs": [],
   "source": [
    "greater_than(23,12)\n",
    "a=345\n",
    "b=43\n",
    "c=67"
   ]
  },
  {
   "cell_type": "code",
   "execution_count": 26,
   "metadata": {},
   "outputs": [
    {
     "name": "stdout",
     "output_type": "stream",
     "text": [
      "345 43\n"
     ]
    }
   ],
   "source": [
    "if a>b and a>c:\n",
    "    if b>c:\n",
    "        print(a,c)\n",
    "    else:\n",
    "        print(a,b)\n",
    "\n",
    "elif b>c and b>c:\n",
    "    if c>a:\n",
    "        print(b,c)\n",
    "    else:\n",
    "        print(b,a)\n",
    "else:\n",
    "    if a>b:\n",
    "        print(c,b)\n",
    "    else:\n",
    "        print(c,a)\n"
   ]
  },
  {
   "cell_type": "code",
   "execution_count": null,
   "metadata": {},
   "outputs": [],
   "source": []
  }
 ],
 "metadata": {
  "kernelspec": {
   "display_name": "Python 3",
   "language": "python",
   "name": "python3"
  },
  "language_info": {
   "codemirror_mode": {
    "name": "ipython",
    "version": 3
   },
   "file_extension": ".py",
   "mimetype": "text/x-python",
   "name": "python",
   "nbconvert_exporter": "python",
   "pygments_lexer": "ipython3",
   "version": "3.12.1"
  }
 },
 "nbformat": 4,
 "nbformat_minor": 2
}
