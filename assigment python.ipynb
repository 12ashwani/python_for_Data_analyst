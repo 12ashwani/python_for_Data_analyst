{
 "cells": [
  {
   "cell_type": "code",
   "execution_count": 2,
   "metadata": {},
   "outputs": [
    {
     "name": "stdout",
     "output_type": "stream",
     "text": [
      "  *   *   *   *   \n",
      "*       *       * \n",
      "*               * \n",
      "*      ♥      *\n",
      "        \n",
      "  U+1F49A           U+1F49A   \n",
      "    *       *     \n",
      "      *   *       \n",
      "        *         \n"
     ]
    }
   ],
   "source": [
    "a='\\u2764\\ufe0f'\n",
    "for row in range(8):\n",
    "    for col in range(9):\n",
    "        if (row==0 and col%2!=0)  : #(row==4 and col-row==3) or (row== and col+row==13):\n",
    "            print('*',end=' ')\n",
    "        elif row==1 and col%4==0 :\n",
    "            print('*',end=' ')\n",
    "        elif (row==2 and col%8==0):\n",
    "            print('*',end=' ')\n",
    "        elif (row==3 and col==0): #or col%8==8) :\n",
    "            print('*',end='')\n",
    "        elif (row==3 and col==4 ):\n",
    "           print('\\u2665      *')\n",
    "        elif row==4 and (col==1 or col==7):\n",
    "            print(U+1F49A,end=' ')\n",
    "        elif row==5 and (col==2 or col==6):\n",
    "            print('*',end=' ')\n",
    "        elif row==6 and (col==3 or col==5):\n",
    "            print('*',end=' ')\n",
    "        elif row==7 and col== 4:\n",
    "            print('*',end=' ')\n",
    "            \n",
    "        else:\n",
    "            print(' ', end= ' ')\n",
    "    print()            \n",
    "            "
   ]
  },
  {
   "cell_type": "code",
   "execution_count": 22,
   "metadata": {},
   "outputs": [
    {
     "name": "stdout",
     "output_type": "stream",
     "text": [
      "❤️❤️❤️❤️❤️\n",
      "❤️❤️❤️❤️❤️\n",
      "❤️❤️❤️❤️❤️\n",
      "♥♥♥♥♥\n",
      "♥♥♥♥♥\n",
      "\n",
      "\n",
      "\n",
      "💚"
     ]
    }
   ],
   "source": [
    "a='\\u2764\\ufe0f'\n",
    "for i in range(8):\n",
    "    if 0<= i<=2:\n",
    "      for j in range(5):\n",
    "           print(a,end='') \n",
    "    elif 3<=i<=4:\n",
    "      for j in range(5):\n",
    "         print('\\u2665',end='')\n",
    "\n",
    "        \n",
    "    print()\n",
    "print(u'\\U0001F49A',end='') \n",
    "\n"
   ]
  },
  {
   "cell_type": "code",
   "execution_count": 35,
   "metadata": {},
   "outputs": [
    {
     "name": "stdout",
     "output_type": "stream",
     "text": [
      "UTF-8\n",
      "ᾐD\n",
      "U+1F49A\n"
     ]
    }
   ],
   "source": [
    "import sys\n",
    "print(sys.stdout.encoding)\n",
    "print(u'\\u1F90D')\n",
    "print( 'U+1F49A')"
   ]
  },
  {
   "cell_type": "code",
   "execution_count": 2,
   "metadata": {},
   "outputs": [
    {
     "name": "stdout",
     "output_type": "stream",
     "text": [
      "  ❤️  ❤️  ❤️  ❤️  \n",
      "❤️      ❤️      ❤️\n",
      "❤️               ❤️ \n",
      "❤️      ABC      ❤️\n",
      "        \n",
      "  ❤️           ❤️   \n",
      "    ❤️       ❤️     \n",
      "      ❤️   ❤️       \n",
      "         ❤️        \n"
     ]
    }
   ],
   "source": [
    "n=8\n",
    "for row in range(n//2):\n",
    "    for col in range(n+1):\n",
    "        if (row==0 and col%2!=0)  : #(row==4 and col-row==3) or (row== and col+row==13):\n",
    "            print('\\u2764\\ufe0f',end='')\n",
    "        elif row==1 and col%4==0 :\n",
    "            print('\\u2764\\ufe0f',end='')\n",
    "        elif (row==2 and col%8==0):\n",
    "            print('\\u2764\\ufe0f',end=' ')\n",
    "        elif (row==3 and col==0): #or col%8==8) :\n",
    "            print('\\u2764\\ufe0f',end='')\n",
    "        elif (row==3 and col==4 ):\n",
    "           print('ABC      \\u2764\\ufe0f')\n",
    "        else:\n",
    "              print(' ', end= ' ')\n",
    "\n",
    "    print()\n",
    "for row in range(n//2,n):\n",
    "    for col in range(n+1):\n",
    "        if row==4 and (col==1 or col==7):\n",
    "            print('\\u2764\\ufe0f',end=' ')\n",
    "        elif row==5 and (col==2 or col==6):\n",
    "            print('\\u2764\\ufe0f',end=' ')\n",
    "        elif row==6 and (col==3 or col==5):\n",
    "            print('\\u2764\\ufe0f',end=' ')\n",
    "        elif row==7 and col== 4:\n",
    "            print(' \\u2764\\ufe0f',end='')\n",
    "            \n",
    "        else:\n",
    "            print(' ', end= ' ')\n",
    "    print()       "
   ]
  },
  {
   "cell_type": "code",
   "execution_count": 3,
   "metadata": {},
   "outputs": [
    {
     "name": "stdout",
     "output_type": "stream",
     "text": [
      "  ❤️  ❤️  ❤️  ❤️  \n",
      "❤️      ❤️      ❤️\n",
      "❤️               ❤️ \n",
      "❤️      ABC      ❤️\n",
      "        \n",
      "  ❤️           ❤️   \n",
      "    ❤️       ❤️     \n",
      "      ❤️   ❤️       \n",
      "         ❤️        \n"
     ]
    }
   ],
   "source": [
    "a='\\u2764\\ufe0f'\n",
    "for row in range(8):\n",
    "    for col in range(9):\n",
    "        if (row==0 and col%2!=0)  : #(row==4 and col-row==3) or (row== and col+row==13):\n",
    "            print('\\u2764\\ufe0f',end='')\n",
    "        elif row==1 and col%4==0 :\n",
    "            print('\\u2764\\ufe0f',end='')\n",
    "        elif (row==2 and col%8==0):\n",
    "            print('\\u2764\\ufe0f',end=' ')\n",
    "        elif (row==3 and col==0): #or col%8==8) :\n",
    "            print('\\u2764\\ufe0f',end='')\n",
    "        elif (row==3 and col==4 ):\n",
    "           print('ABC      \\u2764\\ufe0f')\n",
    "        elif row==4 and (col==1 or col==7):\n",
    "            print('\\u2764\\ufe0f',end=' ')\n",
    "        elif row==5 and (col==2 or col==6):\n",
    "            print('\\u2764\\ufe0f',end=' ')\n",
    "        elif row==6 and (col==3 or col==5):\n",
    "            print('\\u2764\\ufe0f',end=' ')\n",
    "        elif row==7 and col== 4:\n",
    "            print(' \\u2764\\ufe0f',end='')\n",
    "            \n",
    "        else:\n",
    "            print(' ', end= ' ')\n",
    "    print()       "
   ]
  },
  {
   "cell_type": "code",
   "execution_count": 4,
   "metadata": {},
   "outputs": [
    {
     "name": "stdout",
     "output_type": "stream",
     "text": [
      "  ❤️  ❤️  ❤️  ❤️  \n",
      "❤️      ❤️      ❤️\n",
      "❤️              ❤️\n",
      "❤️      ABC      ❤️\n",
      "  ❤️          ❤️  \n",
      "    ❤️       ❤️     \n",
      "      ❤️   ❤️       \n",
      "         ❤️        \n"
     ]
    }
   ],
   "source": [
    "\n",
    "for row in range(8):\n",
    "    for col in range(9):\n",
    "        if (row == 0 and col % 2 != 0) or (row == 1 and col % 4 == 0) or (row == 2 and col % 8 == 0):\n",
    "            print('\\u2764\\ufe0f', end='')\n",
    "        elif row == 3 and col == 0:\n",
    "            print('\\u2764\\ufe0f', end='')\n",
    "        elif row == 3 and col == 4:\n",
    "            print('ABC',end='')\n",
    "        elif row == 3 and col == 8:\n",
    "            print('\\u2764\\ufe0f', end='')\n",
    "        elif row == 4 and (col == 1 or col == 7):\n",
    "            print('\\u2764\\ufe0f', end='')\n",
    "        elif row == 5 and (col == 2 or col == 6):\n",
    "            print('\\u2764\\ufe0f', end=' ')\n",
    "        elif row == 6 and (col == 3 or col == 5):\n",
    "            print('\\u2764\\ufe0f', end=' ')\n",
    "        elif row == 7 and col == 4:\n",
    "            print(' \\u2764\\ufe0f', end='')\n",
    "        else:\n",
    "            print(' ', end=' ')\n",
    "    print()\n",
    "\n",
    "\n"
   ]
  },
  {
   "cell_type": "code",
   "execution_count": 20,
   "metadata": {},
   "outputs": [
    {
     "name": "stdout",
     "output_type": "stream",
     "text": [
      "  *   *   *   *   \n",
      "*       *       * \n",
      "*               * \n",
      "*      ABC      * \n",
      "  *           *   \n",
      "    *       *     \n",
      "      *   *       \n",
      "        *        \n"
     ]
    }
   ],
   "source": [
    "# first half of the star heart pattern \n",
    "n=8\n",
    "for row in range(n//2):                # This for loop is ittert through the row of the matrix\n",
    "    for col in range(n+1):             # This second for loop is itterting through the columns of the matrix\n",
    "        if (row == 0 and col % 2 != 0) or (row == 1 and col % 4 == 0) or (row == 2 and col % 8 == 0):  # Here we define the three condition for three row and column for printing the star\n",
    "            print('*', end=' ')       # This print statement print the star in same row\n",
    "        elif row == 3 and col == 0:   \n",
    "            print('*', end='')\n",
    "        elif row == 3 and col == 4:\n",
    "            print('ABC',end='')\n",
    "        elif row == 3 and col == 8:\n",
    "            print('*', end=' ')\n",
    "        else:\n",
    "            print(' ', end=' ')\n",
    "    print()\n",
    "# Second half of the star heart pattern \n",
    "for row in range(n//2,n):\n",
    "    for col in range(n+1):\n",
    "        if row == 4 and (col == 1 or col == 7):\n",
    "            print('*', end=' ')\n",
    "        elif row == 5 and (col == 2 or col == 6):\n",
    "            print('*', end=' ')\n",
    "        elif row == 6 and (col == 3 or col == 5):\n",
    "            print('*', end=' ')\n",
    "        elif row == 7 and col == 4:\n",
    "            print('*', end='')\n",
    "        else:\n",
    "            print(' ', end=' ')\n",
    "    print()\n"
   ]
  },
  {
   "cell_type": "code",
   "execution_count": 21,
   "metadata": {},
   "outputs": [
    {
     "name": "stdout",
     "output_type": "stream",
     "text": [
      "  *   *   *   *   \n",
      "*       *       * \n",
      "*               * \n",
      "*      ABC      *\n",
      "  *           *   \n",
      "    *       *     \n",
      "      *   *       \n",
      "        *         \n"
     ]
    }
   ],
   "source": [
    "# upper half heart * pattern \n",
    "n=8\n",
    "for row in range( n//2):\n",
    "    for col in range(n+1):\n",
    "        if  (row == 0 and col % 2 != 0) or (row == 1 and col % 4== 0)or (row == 2 and col % 8 == 0):#\n",
    "          print('*',end=' ')\n",
    "        elif row==3 and col%8==0:\n",
    "            print('*',end='')\n",
    "        elif row==3 and col==4:\n",
    "            print(\"ABC\",end='')\n",
    "        else:\n",
    "            print(' ',end=' ')\n",
    "    print()\n",
    " # lower half heart * pattern \n",
    "for row in range( n//2,n):\n",
    "    for col in range(n+1):\n",
    "         if  (row-col==3 or row+col == 11) :\n",
    "            print('*',end=' ')\n",
    "         else:\n",
    "            print(' ',end=' ')\n",
    "    print()"
   ]
  },
  {
   "cell_type": "code",
   "execution_count": 30,
   "metadata": {},
   "outputs": [
    {
     "name": "stdout",
     "output_type": "stream",
     "text": [
      "  *   *   *   *   \n",
      "*       *       * \n",
      "*               * \n",
      "*       ABC      * \n",
      "  *           *   \n",
      "    *       *     \n",
      "      *   *       \n",
      "        *         \n"
     ]
    }
   ],
   "source": [
    "for row in range( n):\n",
    "    for col in range(n+1):\n",
    "        if  (row == 0 and col % 2 != 0) or (row == 1 and col % 4== 0)or ((2<= row <= 3 )and col % 8 == 0) or (row-col==3 or row+col == 11) :#\n",
    "          print('*',end=' ')\n",
    "        # elif row==3 and col%8==0:\n",
    "            # print('*',end='')\n",
    "        elif row==3 and col==4:\n",
    "            print(\"ABC\",end='')\n",
    "        else:\n",
    "            print(' ',end=' ')\n",
    "    print()"
   ]
  },
  {
   "cell_type": "code",
   "execution_count": 28,
   "metadata": {},
   "outputs": [
    {
     "name": "stdout",
     "output_type": "stream",
     "text": [
      "  *   *   *   *   \n",
      "*       *       * \n",
      "*               * \n",
      "*     A B C     * \n",
      "  *           *   \n",
      "    *       *     \n",
      "      *   *       \n",
      "        *         \n"
     ]
    }
   ],
   "source": [
    "n=8\n",
    "for row in range(n):\n",
    "    for col in range(n+1):\n",
    "        if (row == 0 and col % 2 != 0) or (row == 1 and col % 4 == 0) or ((2 <= row <= 3) and col%8 == 0) or (row-col==3 or row+col == 11):\n",
    "            print(\"*\", end=\" \")\n",
    "        elif row == 3 and col in {3, 4, 5}:\n",
    "            if col == 3:\n",
    "                print(\"A\", end=\" \")\n",
    "            elif col == 4:\n",
    "                print(\"B\", end=\" \")\n",
    "            elif col == 5:\n",
    "                print(\"C\", end=\" \")\n",
    "        else:\n",
    "            print(\" \", end=\" \")\n",
    "    print()"
   ]
  },
  {
   "cell_type": "code",
   "execution_count": 17,
   "metadata": {},
   "outputs": [
    {
     "name": "stdout",
     "output_type": "stream",
     "text": [
      "  * *   * *   \n",
      "*     *     * \n",
      "*           * \n",
      "  *       *   \n",
      "    *   *     \n",
      "      *       \n"
     ]
    }
   ],
   "source": [
    "n=6\n",
    "for row in range( n):\n",
    "    for col in range(n+1):\n",
    "         if  (row == 0 and col % 3 != 0) or (row == 1 and col % 3== 0)or (row -col==2 ) or (col+row==8 ):\n",
    "            print('*',end=' ')\n",
    "         else:\n",
    "            print(' ',end=' ')\n",
    "    print()"
   ]
  },
  {
   "cell_type": "code",
   "execution_count": 5,
   "metadata": {},
   "outputs": [
    {
     "name": "stdout",
     "output_type": "stream",
     "text": [
      "length row of list C 2\n",
      "length  column of list c 2\n",
      "length row of list a 2\n"
     ]
    },
    {
     "ename": "IndexError",
     "evalue": "list index out of range",
     "output_type": "error",
     "traceback": [
      "\u001b[1;31m---------------------------------------------------------------------------\u001b[0m",
      "\u001b[1;31mIndexError\u001b[0m                                Traceback (most recent call last)",
      "Cell \u001b[1;32mIn[5], line 17\u001b[0m\n\u001b[0;32m     15\u001b[0m     \u001b[38;5;28;01mfor\u001b[39;00m j \u001b[38;5;129;01min\u001b[39;00m \u001b[38;5;28mrange\u001b[39m(\u001b[38;5;241m0\u001b[39m, \u001b[38;5;28mlen\u001b[39m(b)):\n\u001b[0;32m     16\u001b[0m         \u001b[38;5;28;01mfor\u001b[39;00m k \u001b[38;5;129;01min\u001b[39;00m \u001b[38;5;28mrange\u001b[39m(\u001b[38;5;241m0\u001b[39m, \u001b[38;5;28mlen\u001b[39m(a[\u001b[38;5;241m0\u001b[39m])):\n\u001b[1;32m---> 17\u001b[0m             c[i][j] \u001b[38;5;241m+\u001b[39m\u001b[38;5;241m=\u001b[39m \u001b[43mb\u001b[49m\u001b[43m[\u001b[49m\u001b[43mi\u001b[49m\u001b[43m]\u001b[49m\u001b[43m[\u001b[49m\u001b[43mk\u001b[49m\u001b[43m]\u001b[49m \u001b[38;5;241m*\u001b[39m a[k][j]\n\u001b[0;32m     20\u001b[0m \u001b[38;5;28mprint\u001b[39m(c)\n",
      "\u001b[1;31mIndexError\u001b[0m: list index out of range"
     ]
    }
   ],
   "source": [
    "a = [[1, 2, 3],\n",
    "     [4, 5, 6]]\n",
    "\n",
    "b = [[10, 11],\n",
    "     [20,21],\n",
    "     [30,31]]\n",
    "\n",
    "c = [[0, 0],\n",
    "     [0, 0]]\n",
    "print('length row of list C',len(c))\n",
    "print('length  column of list c',len(c[0]))\n",
    "print('length row of list a',len(a))\n",
    "\n",
    "for i in range(0, len(a)):\n",
    "    for j in range(0, len(b)):\n",
    "        for k in range(0, len(a[0])):\n",
    "            c[i][j] += b[i][k] * a[k][j]\n",
    "\n",
    "\n",
    "print(c)\n"
   ]
  },
  {
   "cell_type": "code",
   "execution_count": 1,
   "metadata": {},
   "outputs": [
    {
     "name": "stdout",
     "output_type": "stream",
     "text": [
      "length row of list C: 2\n",
      "length column of list c: 2\n",
      "length row of list a: 2\n",
      "[140, 146]\n",
      "[320, 335]\n"
     ]
    }
   ],
   "source": [
    "a = [[1, 2, 3],\n",
    "     [4, 5, 6]]\n",
    "\n",
    "b = [[10, 11],\n",
    "     [20, 21],\n",
    "     [30, 31]]\n",
    "\n",
    "c = [[0, 0],\n",
    "     [0, 0]]\n",
    "\n",
    "print('length row of list C:', len(c))\n",
    "print('length column of list c:', len(c[0]))\n",
    "print('length row of list a:', len(a))\n",
    "\n",
    "for i in range(len(a)):\n",
    "    for j in range(len(b[0])):\n",
    "        for k in range(len(b)):\n",
    "            c[i][j] += a[i][k] * b[k][j]\n",
    "for cv in c:  \n",
    "    print(cv)\n"
   ]
  },
  {
   "cell_type": "code",
   "execution_count": 23,
   "metadata": {},
   "outputs": [
    {
     "name": "stdout",
     "output_type": "stream",
     "text": [
      "21 * 1 = 21\n",
      "21 * 2 = 42\n",
      "21 * 3 = 63\n",
      "21 * 4 = 84\n",
      "21 * 5 = 105\n",
      "21 * 6 = 126\n",
      "21 * 7 = 147\n",
      "21 * 8 = 168\n",
      "21 * 9 = 189\n",
      "21 * 10 = 210\n",
      "22 * 1 = 22\n",
      "22 * 2 = 44\n",
      "22 * 3 = 66\n",
      "22 * 4 = 88\n",
      "22 * 5 = 110\n",
      "22 * 6 = 132\n",
      "22 * 7 = 154\n",
      "22 * 8 = 176\n",
      "22 * 9 = 198\n",
      "22 * 10 = 220\n",
      "23 * 1 = 23\n",
      "23 * 2 = 46\n",
      "23 * 3 = 69\n",
      "23 * 4 = 92\n",
      "23 * 5 = 115\n",
      "23 * 6 = 138\n",
      "23 * 7 = 161\n",
      "23 * 8 = 184\n",
      "23 * 9 = 207\n",
      "23 * 10 = 230\n"
     ]
    }
   ],
   "source": [
    "for name in range(21,24):\n",
    "    for i in range (1,11):\n",
    "       print(f'{name} * {i} =',name*i)"
   ]
  },
  {
   "cell_type": "code",
   "execution_count": 16,
   "metadata": {},
   "outputs": [],
   "source": [
    "A=[[1,2,3],\n",
    "   [4,5,6]]\n",
    "\n",
    "B = [[10, 11],\n",
    "     [20, 21],\n",
    "     [30, 31]]\n",
    "C=[[0,0],\n",
    "   [0,0]]\n",
    "for i in range(len(a)):\n",
    "   for j in range(len(b[0])):\n",
    "      for k in range(len(b)):\n",
    "        C[i][j] += A[i][k] * B[k][j]"
   ]
  },
  {
   "cell_type": "code",
   "execution_count": 18,
   "metadata": {},
   "outputs": [
    {
     "name": "stdout",
     "output_type": "stream",
     "text": [
      "[140, 146]\n",
      "[320, 335]\n"
     ]
    }
   ],
   "source": [
    "for cv in C:  \n",
    "    print(cv)"
   ]
  },
  {
   "cell_type": "code",
   "execution_count": 31,
   "metadata": {},
   "outputs": [
    {
     "name": "stdout",
     "output_type": "stream",
     "text": [
      "python programming language\n"
     ]
    }
   ],
   "source": [
    "def funca(input):\n",
    "        print(input + ' programming language')\n",
    "funca('python')"
   ]
  },
  {
   "cell_type": "code",
   "execution_count": 32,
   "metadata": {},
   "outputs": [
    {
     "name": "stdout",
     "output_type": "stream",
     "text": [
      "0\n"
     ]
    }
   ],
   "source": [
    "def fun1(val):\n",
    "      return val + 34\n",
    "x = fun1(-34)\n",
    "print(x)"
   ]
  },
  {
   "cell_type": "code",
   "execution_count": 33,
   "metadata": {},
   "outputs": [
    {
     "name": "stdout",
     "output_type": "stream",
     "text": [
      "12\n"
     ]
    }
   ],
   "source": [
    "def fun1(a, b, c):\n",
    "      return (a+b+c) - (b**c)\n",
    "y = fun1(11, 8, 1)\n",
    "print(y)\n"
   ]
  },
  {
   "cell_type": "code",
   "execution_count": 34,
   "metadata": {},
   "outputs": [],
   "source": [
    "def fun(a, b, c):\n",
    "      return a-b, b**c, a-c\n",
    "x, y, z = fun(11, 8, 1)"
   ]
  },
  {
   "cell_type": "code",
   "execution_count": 35,
   "metadata": {},
   "outputs": [
    {
     "name": "stdout",
     "output_type": "stream",
     "text": [
      "x= 3\n",
      "x= 8\n",
      "x= 10\n"
     ]
    }
   ],
   "source": [
    "print('x=',x)\n",
    "print('x=',y)\n",
    "print('x=',z)"
   ]
  },
  {
   "cell_type": "code",
   "execution_count": 37,
   "metadata": {},
   "outputs": [],
   "source": [
    "class Animal:\n",
    "\n",
    "    def move(self):\n",
    "\n",
    "        print(\"Animals can move\")\n",
    "\n",
    " \n",
    "\n",
    "class Dog(Animal):\n",
    "\n",
    "    def move(self):\n",
    "\n",
    "        print(\"Dogs can walk and run\")\n",
    "\n",
    " \n",
    "\n",
    "def main():\n",
    "\n",
    "    a = Dog()\n",
    "\n",
    "    a.move()"
   ]
  },
  {
   "cell_type": "code",
   "execution_count": 38,
   "metadata": {},
   "outputs": [
    {
     "name": "stdout",
     "output_type": "stream",
     "text": [
      "Dogs can walk and run\n"
     ]
    }
   ],
   "source": [
    "main()"
   ]
  },
  {
   "cell_type": "code",
   "execution_count": 39,
   "metadata": {},
   "outputs": [
    {
     "name": "stdout",
     "output_type": "stream",
     "text": [
      "Name: James\n"
     ]
    }
   ],
   "source": [
    "class EncapTest:\n",
    "\n",
    "    def __init__(self):\n",
    "\n",
    "        self.__name = None\n",
    "\n",
    "    def get_name(self):\n",
    "\n",
    "        return self.__name\n",
    "\n",
    "    def set_name(self, new_name):\n",
    "\n",
    "        self.__name = new_name\n",
    "\n",
    "if __name__ == \"__main__\":\n",
    "\n",
    "    encap = EncapTest()\n",
    "\n",
    "    encap.set_name(\"James\")\n",
    "\n",
    "    print(\"Name: \" + encap.get_name())"
   ]
  },
  {
   "cell_type": "code",
   "execution_count": null,
   "metadata": {},
   "outputs": [],
   "source": []
  }
 ],
 "metadata": {
  "kernelspec": {
   "display_name": "Python 3",
   "language": "python",
   "name": "python3"
  },
  "language_info": {
   "codemirror_mode": {
    "name": "ipython",
    "version": 3
   },
   "file_extension": ".py",
   "mimetype": "text/x-python",
   "name": "python",
   "nbconvert_exporter": "python",
   "pygments_lexer": "ipython3",
   "version": "3.11.7"
  }
 },
 "nbformat": 4,
 "nbformat_minor": 2
}
